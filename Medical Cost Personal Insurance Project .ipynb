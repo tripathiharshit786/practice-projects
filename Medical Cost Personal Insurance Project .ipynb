{
 "cells": [
  {
   "cell_type": "markdown",
   "id": "4aa9485b",
   "metadata": {},
   "source": [
    "# Project Description"
   ]
  },
  {
   "cell_type": "markdown",
   "id": "4cb05fbb",
   "metadata": {},
   "source": [
    "Health insurance is a type of insurance that covers medical expenses that arise due to an illness. These expenses could be related to hospitalisation costs, cost of medicines or doctor consultation fees. The main purpose of medical insurance is to receive the best medical care without any strain on your finances. Health insurance plans offer protection against high medical costs. It covers hospitalization expenses, day care procedures, domiciliary expenses, and ambulance charges, besides many others. Based on certain input features such as age , bmi,,no of dependents ,smoker ,region  medical insurance is calculated ."
   ]
  },
  {
   "cell_type": "markdown",
   "id": "f236e171",
   "metadata": {},
   "source": [
    "# Importing libraries"
   ]
  },
  {
   "cell_type": "code",
   "execution_count": 47,
   "id": "4960d15b",
   "metadata": {},
   "outputs": [],
   "source": [
    "import pandas as pd\n",
    "import numpy as np\n",
    "import matplotlib.pyplot as plt\n",
    "import seaborn as sns \n",
    "import warnings\n",
    "warnings.filterwarnings('ignore')"
   ]
  },
  {
   "cell_type": "markdown",
   "id": "be82a7e0",
   "metadata": {},
   "source": [
    "# Importing DataSet"
   ]
  },
  {
   "cell_type": "code",
   "execution_count": 48,
   "id": "f4f3f9cb",
   "metadata": {},
   "outputs": [
    {
     "data": {
      "text/html": [
       "<div>\n",
       "<style scoped>\n",
       "    .dataframe tbody tr th:only-of-type {\n",
       "        vertical-align: middle;\n",
       "    }\n",
       "\n",
       "    .dataframe tbody tr th {\n",
       "        vertical-align: top;\n",
       "    }\n",
       "\n",
       "    .dataframe thead th {\n",
       "        text-align: right;\n",
       "    }\n",
       "</style>\n",
       "<table border=\"1\" class=\"dataframe\">\n",
       "  <thead>\n",
       "    <tr style=\"text-align: right;\">\n",
       "      <th></th>\n",
       "      <th>age</th>\n",
       "      <th>sex</th>\n",
       "      <th>bmi</th>\n",
       "      <th>children</th>\n",
       "      <th>smoker</th>\n",
       "      <th>region</th>\n",
       "      <th>charges</th>\n",
       "    </tr>\n",
       "  </thead>\n",
       "  <tbody>\n",
       "    <tr>\n",
       "      <th>0</th>\n",
       "      <td>19</td>\n",
       "      <td>female</td>\n",
       "      <td>27.900</td>\n",
       "      <td>0</td>\n",
       "      <td>yes</td>\n",
       "      <td>southwest</td>\n",
       "      <td>16884.92400</td>\n",
       "    </tr>\n",
       "    <tr>\n",
       "      <th>1</th>\n",
       "      <td>18</td>\n",
       "      <td>male</td>\n",
       "      <td>33.770</td>\n",
       "      <td>1</td>\n",
       "      <td>no</td>\n",
       "      <td>southeast</td>\n",
       "      <td>1725.55230</td>\n",
       "    </tr>\n",
       "    <tr>\n",
       "      <th>2</th>\n",
       "      <td>28</td>\n",
       "      <td>male</td>\n",
       "      <td>33.000</td>\n",
       "      <td>3</td>\n",
       "      <td>no</td>\n",
       "      <td>southeast</td>\n",
       "      <td>4449.46200</td>\n",
       "    </tr>\n",
       "    <tr>\n",
       "      <th>3</th>\n",
       "      <td>33</td>\n",
       "      <td>male</td>\n",
       "      <td>22.705</td>\n",
       "      <td>0</td>\n",
       "      <td>no</td>\n",
       "      <td>northwest</td>\n",
       "      <td>21984.47061</td>\n",
       "    </tr>\n",
       "    <tr>\n",
       "      <th>4</th>\n",
       "      <td>32</td>\n",
       "      <td>male</td>\n",
       "      <td>28.880</td>\n",
       "      <td>0</td>\n",
       "      <td>no</td>\n",
       "      <td>northwest</td>\n",
       "      <td>3866.85520</td>\n",
       "    </tr>\n",
       "    <tr>\n",
       "      <th>...</th>\n",
       "      <td>...</td>\n",
       "      <td>...</td>\n",
       "      <td>...</td>\n",
       "      <td>...</td>\n",
       "      <td>...</td>\n",
       "      <td>...</td>\n",
       "      <td>...</td>\n",
       "    </tr>\n",
       "    <tr>\n",
       "      <th>1333</th>\n",
       "      <td>50</td>\n",
       "      <td>male</td>\n",
       "      <td>30.970</td>\n",
       "      <td>3</td>\n",
       "      <td>no</td>\n",
       "      <td>northwest</td>\n",
       "      <td>10600.54830</td>\n",
       "    </tr>\n",
       "    <tr>\n",
       "      <th>1334</th>\n",
       "      <td>18</td>\n",
       "      <td>female</td>\n",
       "      <td>31.920</td>\n",
       "      <td>0</td>\n",
       "      <td>no</td>\n",
       "      <td>northeast</td>\n",
       "      <td>2205.98080</td>\n",
       "    </tr>\n",
       "    <tr>\n",
       "      <th>1335</th>\n",
       "      <td>18</td>\n",
       "      <td>female</td>\n",
       "      <td>36.850</td>\n",
       "      <td>0</td>\n",
       "      <td>no</td>\n",
       "      <td>southeast</td>\n",
       "      <td>1629.83350</td>\n",
       "    </tr>\n",
       "    <tr>\n",
       "      <th>1336</th>\n",
       "      <td>21</td>\n",
       "      <td>female</td>\n",
       "      <td>25.800</td>\n",
       "      <td>0</td>\n",
       "      <td>no</td>\n",
       "      <td>southwest</td>\n",
       "      <td>2007.94500</td>\n",
       "    </tr>\n",
       "    <tr>\n",
       "      <th>1337</th>\n",
       "      <td>61</td>\n",
       "      <td>female</td>\n",
       "      <td>29.070</td>\n",
       "      <td>0</td>\n",
       "      <td>yes</td>\n",
       "      <td>northwest</td>\n",
       "      <td>29141.36030</td>\n",
       "    </tr>\n",
       "  </tbody>\n",
       "</table>\n",
       "<p>1338 rows × 7 columns</p>\n",
       "</div>"
      ],
      "text/plain": [
       "      age     sex     bmi  children smoker     region      charges\n",
       "0      19  female  27.900         0    yes  southwest  16884.92400\n",
       "1      18    male  33.770         1     no  southeast   1725.55230\n",
       "2      28    male  33.000         3     no  southeast   4449.46200\n",
       "3      33    male  22.705         0     no  northwest  21984.47061\n",
       "4      32    male  28.880         0     no  northwest   3866.85520\n",
       "...   ...     ...     ...       ...    ...        ...          ...\n",
       "1333   50    male  30.970         3     no  northwest  10600.54830\n",
       "1334   18  female  31.920         0     no  northeast   2205.98080\n",
       "1335   18  female  36.850         0     no  southeast   1629.83350\n",
       "1336   21  female  25.800         0     no  southwest   2007.94500\n",
       "1337   61  female  29.070         0    yes  northwest  29141.36030\n",
       "\n",
       "[1338 rows x 7 columns]"
      ]
     },
     "execution_count": 48,
     "metadata": {},
     "output_type": "execute_result"
    }
   ],
   "source": [
    "df=pd.read_csv('medical_cost_insurance.csv')\n",
    "df"
   ]
  },
  {
   "cell_type": "code",
   "execution_count": 49,
   "id": "2878cd75",
   "metadata": {},
   "outputs": [
    {
     "data": {
      "text/html": [
       "<div>\n",
       "<style scoped>\n",
       "    .dataframe tbody tr th:only-of-type {\n",
       "        vertical-align: middle;\n",
       "    }\n",
       "\n",
       "    .dataframe tbody tr th {\n",
       "        vertical-align: top;\n",
       "    }\n",
       "\n",
       "    .dataframe thead th {\n",
       "        text-align: right;\n",
       "    }\n",
       "</style>\n",
       "<table border=\"1\" class=\"dataframe\">\n",
       "  <thead>\n",
       "    <tr style=\"text-align: right;\">\n",
       "      <th></th>\n",
       "      <th>age</th>\n",
       "      <th>sex</th>\n",
       "      <th>bmi</th>\n",
       "      <th>children</th>\n",
       "      <th>smoker</th>\n",
       "      <th>region</th>\n",
       "      <th>charges</th>\n",
       "    </tr>\n",
       "  </thead>\n",
       "  <tbody>\n",
       "    <tr>\n",
       "      <th>0</th>\n",
       "      <td>19</td>\n",
       "      <td>female</td>\n",
       "      <td>27.900</td>\n",
       "      <td>0</td>\n",
       "      <td>yes</td>\n",
       "      <td>southwest</td>\n",
       "      <td>16884.92400</td>\n",
       "    </tr>\n",
       "    <tr>\n",
       "      <th>1</th>\n",
       "      <td>18</td>\n",
       "      <td>male</td>\n",
       "      <td>33.770</td>\n",
       "      <td>1</td>\n",
       "      <td>no</td>\n",
       "      <td>southeast</td>\n",
       "      <td>1725.55230</td>\n",
       "    </tr>\n",
       "    <tr>\n",
       "      <th>2</th>\n",
       "      <td>28</td>\n",
       "      <td>male</td>\n",
       "      <td>33.000</td>\n",
       "      <td>3</td>\n",
       "      <td>no</td>\n",
       "      <td>southeast</td>\n",
       "      <td>4449.46200</td>\n",
       "    </tr>\n",
       "    <tr>\n",
       "      <th>3</th>\n",
       "      <td>33</td>\n",
       "      <td>male</td>\n",
       "      <td>22.705</td>\n",
       "      <td>0</td>\n",
       "      <td>no</td>\n",
       "      <td>northwest</td>\n",
       "      <td>21984.47061</td>\n",
       "    </tr>\n",
       "    <tr>\n",
       "      <th>4</th>\n",
       "      <td>32</td>\n",
       "      <td>male</td>\n",
       "      <td>28.880</td>\n",
       "      <td>0</td>\n",
       "      <td>no</td>\n",
       "      <td>northwest</td>\n",
       "      <td>3866.85520</td>\n",
       "    </tr>\n",
       "    <tr>\n",
       "      <th>...</th>\n",
       "      <td>...</td>\n",
       "      <td>...</td>\n",
       "      <td>...</td>\n",
       "      <td>...</td>\n",
       "      <td>...</td>\n",
       "      <td>...</td>\n",
       "      <td>...</td>\n",
       "    </tr>\n",
       "    <tr>\n",
       "      <th>1333</th>\n",
       "      <td>50</td>\n",
       "      <td>male</td>\n",
       "      <td>30.970</td>\n",
       "      <td>3</td>\n",
       "      <td>no</td>\n",
       "      <td>northwest</td>\n",
       "      <td>10600.54830</td>\n",
       "    </tr>\n",
       "    <tr>\n",
       "      <th>1334</th>\n",
       "      <td>18</td>\n",
       "      <td>female</td>\n",
       "      <td>31.920</td>\n",
       "      <td>0</td>\n",
       "      <td>no</td>\n",
       "      <td>northeast</td>\n",
       "      <td>2205.98080</td>\n",
       "    </tr>\n",
       "    <tr>\n",
       "      <th>1335</th>\n",
       "      <td>18</td>\n",
       "      <td>female</td>\n",
       "      <td>36.850</td>\n",
       "      <td>0</td>\n",
       "      <td>no</td>\n",
       "      <td>southeast</td>\n",
       "      <td>1629.83350</td>\n",
       "    </tr>\n",
       "    <tr>\n",
       "      <th>1336</th>\n",
       "      <td>21</td>\n",
       "      <td>female</td>\n",
       "      <td>25.800</td>\n",
       "      <td>0</td>\n",
       "      <td>no</td>\n",
       "      <td>southwest</td>\n",
       "      <td>2007.94500</td>\n",
       "    </tr>\n",
       "    <tr>\n",
       "      <th>1337</th>\n",
       "      <td>61</td>\n",
       "      <td>female</td>\n",
       "      <td>29.070</td>\n",
       "      <td>0</td>\n",
       "      <td>yes</td>\n",
       "      <td>northwest</td>\n",
       "      <td>29141.36030</td>\n",
       "    </tr>\n",
       "  </tbody>\n",
       "</table>\n",
       "<p>1338 rows × 7 columns</p>\n",
       "</div>"
      ],
      "text/plain": [
       "      age     sex     bmi  children smoker     region      charges\n",
       "0      19  female  27.900         0    yes  southwest  16884.92400\n",
       "1      18    male  33.770         1     no  southeast   1725.55230\n",
       "2      28    male  33.000         3     no  southeast   4449.46200\n",
       "3      33    male  22.705         0     no  northwest  21984.47061\n",
       "4      32    male  28.880         0     no  northwest   3866.85520\n",
       "...   ...     ...     ...       ...    ...        ...          ...\n",
       "1333   50    male  30.970         3     no  northwest  10600.54830\n",
       "1334   18  female  31.920         0     no  northeast   2205.98080\n",
       "1335   18  female  36.850         0     no  southeast   1629.83350\n",
       "1336   21  female  25.800         0     no  southwest   2007.94500\n",
       "1337   61  female  29.070         0    yes  northwest  29141.36030\n",
       "\n",
       "[1338 rows x 7 columns]"
      ]
     },
     "execution_count": 49,
     "metadata": {},
     "output_type": "execute_result"
    }
   ],
   "source": [
    "df=pd.DataFrame(df)\n",
    "df"
   ]
  },
  {
   "cell_type": "markdown",
   "id": "efa5a353",
   "metadata": {},
   "source": [
    "# Description of Columns present in the dataset"
   ]
  },
  {
   "cell_type": "markdown",
   "id": "be92daae",
   "metadata": {},
   "source": [
    "•\tage: age of primary beneficiary\n",
    "\n",
    "\n",
    "•\tsex: insurance contractor gender, female, male\n",
    "\n",
    "\n",
    "•\tbmi: Body mass index, providing an understanding of body, weights that are relatively high or low relative to height, objective index of body weight (kg / m ^ 2) using the ratio of height to weight, ideally 18.5 to 24.9.\n",
    "\n",
    "\n",
    "•\tchildren: Number of children covered by health insurance / Number of dependents\n",
    "\n",
    "\n",
    "•\tsmoker: Smoking\n",
    "\n",
    "\n",
    "•\tregion: the beneficiary's residential area in the US, northeast, southeast, southwest, northwest.\n",
    "\n",
    "\n",
    "•\tcharges: Individual medical costs billed by health insurance\n"
   ]
  },
  {
   "cell_type": "code",
   "execution_count": 50,
   "id": "ff462df9",
   "metadata": {},
   "outputs": [
    {
     "data": {
      "text/html": [
       "<div>\n",
       "<style scoped>\n",
       "    .dataframe tbody tr th:only-of-type {\n",
       "        vertical-align: middle;\n",
       "    }\n",
       "\n",
       "    .dataframe tbody tr th {\n",
       "        vertical-align: top;\n",
       "    }\n",
       "\n",
       "    .dataframe thead th {\n",
       "        text-align: right;\n",
       "    }\n",
       "</style>\n",
       "<table border=\"1\" class=\"dataframe\">\n",
       "  <thead>\n",
       "    <tr style=\"text-align: right;\">\n",
       "      <th></th>\n",
       "      <th>age</th>\n",
       "      <th>sex</th>\n",
       "      <th>bmi</th>\n",
       "      <th>children</th>\n",
       "      <th>smoker</th>\n",
       "      <th>region</th>\n",
       "      <th>charges</th>\n",
       "    </tr>\n",
       "  </thead>\n",
       "  <tbody>\n",
       "    <tr>\n",
       "      <th>0</th>\n",
       "      <td>19</td>\n",
       "      <td>female</td>\n",
       "      <td>27.900</td>\n",
       "      <td>0</td>\n",
       "      <td>yes</td>\n",
       "      <td>southwest</td>\n",
       "      <td>16884.92400</td>\n",
       "    </tr>\n",
       "    <tr>\n",
       "      <th>1</th>\n",
       "      <td>18</td>\n",
       "      <td>male</td>\n",
       "      <td>33.770</td>\n",
       "      <td>1</td>\n",
       "      <td>no</td>\n",
       "      <td>southeast</td>\n",
       "      <td>1725.55230</td>\n",
       "    </tr>\n",
       "    <tr>\n",
       "      <th>2</th>\n",
       "      <td>28</td>\n",
       "      <td>male</td>\n",
       "      <td>33.000</td>\n",
       "      <td>3</td>\n",
       "      <td>no</td>\n",
       "      <td>southeast</td>\n",
       "      <td>4449.46200</td>\n",
       "    </tr>\n",
       "    <tr>\n",
       "      <th>3</th>\n",
       "      <td>33</td>\n",
       "      <td>male</td>\n",
       "      <td>22.705</td>\n",
       "      <td>0</td>\n",
       "      <td>no</td>\n",
       "      <td>northwest</td>\n",
       "      <td>21984.47061</td>\n",
       "    </tr>\n",
       "    <tr>\n",
       "      <th>4</th>\n",
       "      <td>32</td>\n",
       "      <td>male</td>\n",
       "      <td>28.880</td>\n",
       "      <td>0</td>\n",
       "      <td>no</td>\n",
       "      <td>northwest</td>\n",
       "      <td>3866.85520</td>\n",
       "    </tr>\n",
       "    <tr>\n",
       "      <th>5</th>\n",
       "      <td>31</td>\n",
       "      <td>female</td>\n",
       "      <td>25.740</td>\n",
       "      <td>0</td>\n",
       "      <td>no</td>\n",
       "      <td>southeast</td>\n",
       "      <td>3756.62160</td>\n",
       "    </tr>\n",
       "    <tr>\n",
       "      <th>6</th>\n",
       "      <td>46</td>\n",
       "      <td>female</td>\n",
       "      <td>33.440</td>\n",
       "      <td>1</td>\n",
       "      <td>no</td>\n",
       "      <td>southeast</td>\n",
       "      <td>8240.58960</td>\n",
       "    </tr>\n",
       "    <tr>\n",
       "      <th>7</th>\n",
       "      <td>37</td>\n",
       "      <td>female</td>\n",
       "      <td>27.740</td>\n",
       "      <td>3</td>\n",
       "      <td>no</td>\n",
       "      <td>northwest</td>\n",
       "      <td>7281.50560</td>\n",
       "    </tr>\n",
       "    <tr>\n",
       "      <th>8</th>\n",
       "      <td>37</td>\n",
       "      <td>male</td>\n",
       "      <td>29.830</td>\n",
       "      <td>2</td>\n",
       "      <td>no</td>\n",
       "      <td>northeast</td>\n",
       "      <td>6406.41070</td>\n",
       "    </tr>\n",
       "    <tr>\n",
       "      <th>9</th>\n",
       "      <td>60</td>\n",
       "      <td>female</td>\n",
       "      <td>25.840</td>\n",
       "      <td>0</td>\n",
       "      <td>no</td>\n",
       "      <td>northwest</td>\n",
       "      <td>28923.13692</td>\n",
       "    </tr>\n",
       "  </tbody>\n",
       "</table>\n",
       "</div>"
      ],
      "text/plain": [
       "   age     sex     bmi  children smoker     region      charges\n",
       "0   19  female  27.900         0    yes  southwest  16884.92400\n",
       "1   18    male  33.770         1     no  southeast   1725.55230\n",
       "2   28    male  33.000         3     no  southeast   4449.46200\n",
       "3   33    male  22.705         0     no  northwest  21984.47061\n",
       "4   32    male  28.880         0     no  northwest   3866.85520\n",
       "5   31  female  25.740         0     no  southeast   3756.62160\n",
       "6   46  female  33.440         1     no  southeast   8240.58960\n",
       "7   37  female  27.740         3     no  northwest   7281.50560\n",
       "8   37    male  29.830         2     no  northeast   6406.41070\n",
       "9   60  female  25.840         0     no  northwest  28923.13692"
      ]
     },
     "execution_count": 50,
     "metadata": {},
     "output_type": "execute_result"
    }
   ],
   "source": [
    "df.head(10)"
   ]
  },
  {
   "cell_type": "markdown",
   "id": "42c010ef",
   "metadata": {},
   "source": [
    "Top 10 rows of the dataset "
   ]
  },
  {
   "cell_type": "code",
   "execution_count": 51,
   "id": "886a03c1",
   "metadata": {},
   "outputs": [
    {
     "data": {
      "text/html": [
       "<div>\n",
       "<style scoped>\n",
       "    .dataframe tbody tr th:only-of-type {\n",
       "        vertical-align: middle;\n",
       "    }\n",
       "\n",
       "    .dataframe tbody tr th {\n",
       "        vertical-align: top;\n",
       "    }\n",
       "\n",
       "    .dataframe thead th {\n",
       "        text-align: right;\n",
       "    }\n",
       "</style>\n",
       "<table border=\"1\" class=\"dataframe\">\n",
       "  <thead>\n",
       "    <tr style=\"text-align: right;\">\n",
       "      <th></th>\n",
       "      <th>age</th>\n",
       "      <th>sex</th>\n",
       "      <th>bmi</th>\n",
       "      <th>children</th>\n",
       "      <th>smoker</th>\n",
       "      <th>region</th>\n",
       "      <th>charges</th>\n",
       "    </tr>\n",
       "  </thead>\n",
       "  <tbody>\n",
       "    <tr>\n",
       "      <th>1328</th>\n",
       "      <td>23</td>\n",
       "      <td>female</td>\n",
       "      <td>24.225</td>\n",
       "      <td>2</td>\n",
       "      <td>no</td>\n",
       "      <td>northeast</td>\n",
       "      <td>22395.74424</td>\n",
       "    </tr>\n",
       "    <tr>\n",
       "      <th>1329</th>\n",
       "      <td>52</td>\n",
       "      <td>male</td>\n",
       "      <td>38.600</td>\n",
       "      <td>2</td>\n",
       "      <td>no</td>\n",
       "      <td>southwest</td>\n",
       "      <td>10325.20600</td>\n",
       "    </tr>\n",
       "    <tr>\n",
       "      <th>1330</th>\n",
       "      <td>57</td>\n",
       "      <td>female</td>\n",
       "      <td>25.740</td>\n",
       "      <td>2</td>\n",
       "      <td>no</td>\n",
       "      <td>southeast</td>\n",
       "      <td>12629.16560</td>\n",
       "    </tr>\n",
       "    <tr>\n",
       "      <th>1331</th>\n",
       "      <td>23</td>\n",
       "      <td>female</td>\n",
       "      <td>33.400</td>\n",
       "      <td>0</td>\n",
       "      <td>no</td>\n",
       "      <td>southwest</td>\n",
       "      <td>10795.93733</td>\n",
       "    </tr>\n",
       "    <tr>\n",
       "      <th>1332</th>\n",
       "      <td>52</td>\n",
       "      <td>female</td>\n",
       "      <td>44.700</td>\n",
       "      <td>3</td>\n",
       "      <td>no</td>\n",
       "      <td>southwest</td>\n",
       "      <td>11411.68500</td>\n",
       "    </tr>\n",
       "    <tr>\n",
       "      <th>1333</th>\n",
       "      <td>50</td>\n",
       "      <td>male</td>\n",
       "      <td>30.970</td>\n",
       "      <td>3</td>\n",
       "      <td>no</td>\n",
       "      <td>northwest</td>\n",
       "      <td>10600.54830</td>\n",
       "    </tr>\n",
       "    <tr>\n",
       "      <th>1334</th>\n",
       "      <td>18</td>\n",
       "      <td>female</td>\n",
       "      <td>31.920</td>\n",
       "      <td>0</td>\n",
       "      <td>no</td>\n",
       "      <td>northeast</td>\n",
       "      <td>2205.98080</td>\n",
       "    </tr>\n",
       "    <tr>\n",
       "      <th>1335</th>\n",
       "      <td>18</td>\n",
       "      <td>female</td>\n",
       "      <td>36.850</td>\n",
       "      <td>0</td>\n",
       "      <td>no</td>\n",
       "      <td>southeast</td>\n",
       "      <td>1629.83350</td>\n",
       "    </tr>\n",
       "    <tr>\n",
       "      <th>1336</th>\n",
       "      <td>21</td>\n",
       "      <td>female</td>\n",
       "      <td>25.800</td>\n",
       "      <td>0</td>\n",
       "      <td>no</td>\n",
       "      <td>southwest</td>\n",
       "      <td>2007.94500</td>\n",
       "    </tr>\n",
       "    <tr>\n",
       "      <th>1337</th>\n",
       "      <td>61</td>\n",
       "      <td>female</td>\n",
       "      <td>29.070</td>\n",
       "      <td>0</td>\n",
       "      <td>yes</td>\n",
       "      <td>northwest</td>\n",
       "      <td>29141.36030</td>\n",
       "    </tr>\n",
       "  </tbody>\n",
       "</table>\n",
       "</div>"
      ],
      "text/plain": [
       "      age     sex     bmi  children smoker     region      charges\n",
       "1328   23  female  24.225         2     no  northeast  22395.74424\n",
       "1329   52    male  38.600         2     no  southwest  10325.20600\n",
       "1330   57  female  25.740         2     no  southeast  12629.16560\n",
       "1331   23  female  33.400         0     no  southwest  10795.93733\n",
       "1332   52  female  44.700         3     no  southwest  11411.68500\n",
       "1333   50    male  30.970         3     no  northwest  10600.54830\n",
       "1334   18  female  31.920         0     no  northeast   2205.98080\n",
       "1335   18  female  36.850         0     no  southeast   1629.83350\n",
       "1336   21  female  25.800         0     no  southwest   2007.94500\n",
       "1337   61  female  29.070         0    yes  northwest  29141.36030"
      ]
     },
     "execution_count": 51,
     "metadata": {},
     "output_type": "execute_result"
    }
   ],
   "source": [
    "df.tail(10)"
   ]
  },
  {
   "cell_type": "markdown",
   "id": "c5bba6b4",
   "metadata": {},
   "source": [
    "last 10 rows of the dataset"
   ]
  },
  {
   "cell_type": "code",
   "execution_count": 52,
   "id": "61d8519f",
   "metadata": {},
   "outputs": [
    {
     "data": {
      "text/plain": [
       "(1338, 7)"
      ]
     },
     "execution_count": 52,
     "metadata": {},
     "output_type": "execute_result"
    }
   ],
   "source": [
    "df.shape"
   ]
  },
  {
   "cell_type": "markdown",
   "id": "70847251",
   "metadata": {},
   "source": [
    "This dataset contains 1338 rows and 7 columns. In which 6 columns['age' 'sex' 'bmi'\t'children' 'smoker' 'region'] are independent variables and column 'charges' is our dependent our variable."
   ]
  },
  {
   "cell_type": "markdown",
   "id": "e88ef51a",
   "metadata": {},
   "source": [
    "# Exploratory Data Analysis "
   ]
  },
  {
   "cell_type": "code",
   "execution_count": 53,
   "id": "f6fe25e1",
   "metadata": {},
   "outputs": [
    {
     "data": {
      "text/plain": [
       "['age', 'sex', 'bmi', 'children', 'smoker', 'region', 'charges']"
      ]
     },
     "execution_count": 53,
     "metadata": {},
     "output_type": "execute_result"
    }
   ],
   "source": [
    "df.columns.tolist()"
   ]
  },
  {
   "cell_type": "code",
   "execution_count": 54,
   "id": "946546c3",
   "metadata": {},
   "outputs": [
    {
     "data": {
      "text/plain": [
       "age           int64\n",
       "sex          object\n",
       "bmi         float64\n",
       "children      int64\n",
       "smoker       object\n",
       "region       object\n",
       "charges     float64\n",
       "dtype: object"
      ]
     },
     "execution_count": 54,
     "metadata": {},
     "output_type": "execute_result"
    }
   ],
   "source": [
    "#checking for the data types present in the columns\n",
    "df.dtypes"
   ]
  },
  {
   "cell_type": "markdown",
   "id": "fd94143b",
   "metadata": {},
   "source": [
    "As we can see here there are 3 types of data present in the dataset 'int64', 'object', 'float64'"
   ]
  },
  {
   "cell_type": "code",
   "execution_count": 55,
   "id": "f4201358",
   "metadata": {},
   "outputs": [
    {
     "data": {
      "text/plain": [
       "age         0\n",
       "sex         0\n",
       "bmi         0\n",
       "children    0\n",
       "smoker      0\n",
       "region      0\n",
       "charges     0\n",
       "dtype: int64"
      ]
     },
     "execution_count": 55,
     "metadata": {},
     "output_type": "execute_result"
    }
   ],
   "source": [
    "#checking for the null values \n",
    "df.isnull().sum()"
   ]
  },
  {
   "cell_type": "markdown",
   "id": "432843c1",
   "metadata": {},
   "source": [
    "There is no null value present in the dataset"
   ]
  },
  {
   "cell_type": "code",
   "execution_count": 56,
   "id": "6dbcef67",
   "metadata": {},
   "outputs": [
    {
     "data": {
      "text/plain": [
       "<AxesSubplot:>"
      ]
     },
     "execution_count": 56,
     "metadata": {},
     "output_type": "execute_result"
    },
    {
     "data": {
      "image/png": "[encoded data removed]",
      "text/plain": [
       "<Figure size 432x288 with 2 Axes>"
      ]
     },
     "metadata": {
      "needs_background": "light"
     },
     "output_type": "display_data"
    }
   ],
   "source": [
    "#Graphical visualization for the null value\n",
    "sns.heatmap(df.isnull())"
   ]
  },
  {
   "cell_type": "markdown",
   "id": "8f8795f1",
   "metadata": {},
   "source": [
    "Here we can clearly see that there is no null values present in the dataset "
   ]
  },
  {
   "cell_type": "code",
   "execution_count": 57,
   "id": "b73a8fd4",
   "metadata": {},
   "outputs": [
    {
     "name": "stdout",
     "output_type": "stream",
     "text": [
      "<class 'pandas.core.frame.DataFrame'>\n",
      "RangeIndex: 1338 entries, 0 to 1337\n",
      "Data columns (total 7 columns):\n",
      " #   Column    Non-Null Count  Dtype  \n",
      "---  ------    --------------  -----  \n",
      " 0   age       1338 non-null   int64  \n",
      " 1   sex       1338 non-null   object \n",
      " 2   bmi       1338 non-null   float64\n",
      " 3   children  1338 non-null   int64  \n",
      " 4   smoker    1338 non-null   object \n",
      " 5   region    1338 non-null   object \n",
      " 6   charges   1338 non-null   float64\n",
      "dtypes: float64(2), int64(2), object(3)\n",
      "memory usage: 73.3+ KB\n"
     ]
    }
   ],
   "source": [
    "#for the general informaton of the dataset \n",
    "df.info()"
   ]
  },
  {
   "cell_type": "markdown",
   "id": "d681e869",
   "metadata": {},
   "source": [
    "Here we can see the basic information about the dataset like types of dataset present in the column number of rows null values and memory occupied by the dataset."
   ]
  },
  {
   "cell_type": "code",
   "execution_count": 58,
   "id": "248b3b18",
   "metadata": {},
   "outputs": [
    {
     "data": {
      "text/plain": [
       "1337"
      ]
     },
     "execution_count": 58,
     "metadata": {},
     "output_type": "execute_result"
    }
   ],
   "source": [
    "#checking for the number of unique values present in the dataset\n",
    "df['charges'].nunique()"
   ]
  },
  {
   "cell_type": "markdown",
   "id": "6ea9b820",
   "metadata": {},
   "source": [
    "from 1338 values 1337 values are unique "
   ]
  },
  {
   "cell_type": "code",
   "execution_count": 59,
   "id": "e8e9594a",
   "metadata": {},
   "outputs": [
    {
     "data": {
      "text/plain": [
       "array([16884.924 ,  1725.5523,  4449.462 , ...,  1629.8335,  2007.945 ,\n",
       "       29141.3603])"
      ]
     },
     "execution_count": 59,
     "metadata": {},
     "output_type": "execute_result"
    }
   ],
   "source": [
    "df['charges'].unique()"
   ]
  },
  {
   "cell_type": "code",
   "execution_count": 60,
   "id": "830c73cf",
   "metadata": {},
   "outputs": [
    {
     "name": "stdout",
     "output_type": "stream",
     "text": [
      "18    69\n",
      "19    68\n",
      "50    29\n",
      "51    29\n",
      "47    29\n",
      "46    29\n",
      "45    29\n",
      "20    29\n",
      "48    29\n",
      "52    29\n",
      "22    28\n",
      "49    28\n",
      "54    28\n",
      "53    28\n",
      "21    28\n",
      "26    28\n",
      "24    28\n",
      "25    28\n",
      "28    28\n",
      "27    28\n",
      "23    28\n",
      "43    27\n",
      "29    27\n",
      "30    27\n",
      "41    27\n",
      "42    27\n",
      "44    27\n",
      "31    27\n",
      "40    27\n",
      "32    26\n",
      "33    26\n",
      "56    26\n",
      "34    26\n",
      "55    26\n",
      "57    26\n",
      "37    25\n",
      "59    25\n",
      "58    25\n",
      "36    25\n",
      "38    25\n",
      "35    25\n",
      "39    25\n",
      "61    23\n",
      "60    23\n",
      "63    23\n",
      "62    23\n",
      "64    22\n",
      "Name: age, dtype: int64\n",
      "\n",
      "\n",
      "male      676\n",
      "female    662\n",
      "Name: sex, dtype: int64\n",
      "\n",
      "\n",
      "32.300    13\n",
      "28.310     9\n",
      "30.495     8\n",
      "30.875     8\n",
      "31.350     8\n",
      "          ..\n",
      "46.200     1\n",
      "23.800     1\n",
      "44.770     1\n",
      "32.120     1\n",
      "30.970     1\n",
      "Name: bmi, Length: 548, dtype: int64\n",
      "\n",
      "\n",
      "0    574\n",
      "1    324\n",
      "2    240\n",
      "3    157\n",
      "4     25\n",
      "5     18\n",
      "Name: children, dtype: int64\n",
      "\n",
      "\n",
      "no     1064\n",
      "yes     274\n",
      "Name: smoker, dtype: int64\n",
      "\n",
      "\n",
      "southeast    364\n",
      "southwest    325\n",
      "northwest    325\n",
      "northeast    324\n",
      "Name: region, dtype: int64\n",
      "\n",
      "\n",
      "1639.56310     2\n",
      "16884.92400    1\n",
      "29330.98315    1\n",
      "2221.56445     1\n",
      "19798.05455    1\n",
      "              ..\n",
      "7345.08400     1\n",
      "26109.32905    1\n",
      "28287.89766    1\n",
      "1149.39590     1\n",
      "29141.36030    1\n",
      "Name: charges, Length: 1337, dtype: int64\n",
      "\n",
      "\n"
     ]
    }
   ],
   "source": [
    "#Checking the value counts of each column\n",
    "for i in df.columns:\n",
    "    print(df[i].value_counts())\n",
    "    print(\"\\n\")  #\\n is use to print in the new line "
   ]
  },
  {
   "cell_type": "markdown",
   "id": "6244bf66",
   "metadata": {},
   "source": [
    "Here we can see the value count for each column which will help us in visualization "
   ]
  },
  {
   "cell_type": "markdown",
   "id": "d81d2625",
   "metadata": {},
   "source": [
    "Now we seprate numerical column and categorical column"
   ]
  },
  {
   "cell_type": "code",
   "execution_count": 61,
   "id": "aa892ebf",
   "metadata": {},
   "outputs": [
    {
     "name": "stdout",
     "output_type": "stream",
     "text": [
      "categorical columns: ['sex', 'smoker', 'region']\n",
      "\n",
      "\n"
     ]
    }
   ],
   "source": [
    "#checking for categorical columns\n",
    "\n",
    "categorical_col=[]\n",
    "for i in df.columns:\n",
    "    if df.dtypes[i]=='object':\n",
    "        categorical_col.append(i)\n",
    "print('categorical columns:',categorical_col)\n",
    "print('\\n')"
   ]
  },
  {
   "cell_type": "code",
   "execution_count": 62,
   "id": "37a6b8c1",
   "metadata": {},
   "outputs": [
    {
     "name": "stdout",
     "output_type": "stream",
     "text": [
      "numerical columns: ['age', 'bmi', 'children', 'charges']\n"
     ]
    }
   ],
   "source": [
    "#checking numerical columns\n",
    "\n",
    "numerical_col=[]\n",
    "for i in df.columns:\n",
    "    if df.dtypes[i]!='object':\n",
    "        numerical_col.append(i)\n",
    "print('numerical columns:',numerical_col)"
   ]
  },
  {
   "cell_type": "markdown",
   "id": "0cf24f16",
   "metadata": {},
   "source": [
    "Here we can see that which column is numerical type and which column is categorical type "
   ]
  },
  {
   "cell_type": "markdown",
   "id": "13ae7903",
   "metadata": {},
   "source": [
    "# Description of dataset"
   ]
  },
  {
   "cell_type": "code",
   "execution_count": 63,
   "id": "8ddd1256",
   "metadata": {},
   "outputs": [
    {
     "data": {
      "text/html": [
       "<div>\n",
       "<style scoped>\n",
       "    .dataframe tbody tr th:only-of-type {\n",
       "        vertical-align: middle;\n",
       "    }\n",
       "\n",
       "    .dataframe tbody tr th {\n",
       "        vertical-align: top;\n",
       "    }\n",
       "\n",
       "    .dataframe thead th {\n",
       "        text-align: right;\n",
       "    }\n",
       "</style>\n",
       "<table border=\"1\" class=\"dataframe\">\n",
       "  <thead>\n",
       "    <tr style=\"text-align: right;\">\n",
       "      <th></th>\n",
       "      <th>age</th>\n",
       "      <th>bmi</th>\n",
       "      <th>children</th>\n",
       "      <th>charges</th>\n",
       "    </tr>\n",
       "  </thead>\n",
       "  <tbody>\n",
       "    <tr>\n",
       "      <th>count</th>\n",
       "      <td>1338.000000</td>\n",
       "      <td>1338.000000</td>\n",
       "      <td>1338.000000</td>\n",
       "      <td>1338.000000</td>\n",
       "    </tr>\n",
       "    <tr>\n",
       "      <th>mean</th>\n",
       "      <td>39.207025</td>\n",
       "      <td>30.663397</td>\n",
       "      <td>1.094918</td>\n",
       "      <td>13270.422265</td>\n",
       "    </tr>\n",
       "    <tr>\n",
       "      <th>std</th>\n",
       "      <td>14.049960</td>\n",
       "      <td>6.098187</td>\n",
       "      <td>1.205493</td>\n",
       "      <td>12110.011237</td>\n",
       "    </tr>\n",
       "    <tr>\n",
       "      <th>min</th>\n",
       "      <td>18.000000</td>\n",
       "      <td>15.960000</td>\n",
       "      <td>0.000000</td>\n",
       "      <td>1121.873900</td>\n",
       "    </tr>\n",
       "    <tr>\n",
       "      <th>25%</th>\n",
       "      <td>27.000000</td>\n",
       "      <td>26.296250</td>\n",
       "      <td>0.000000</td>\n",
       "      <td>4740.287150</td>\n",
       "    </tr>\n",
       "    <tr>\n",
       "      <th>50%</th>\n",
       "      <td>39.000000</td>\n",
       "      <td>30.400000</td>\n",
       "      <td>1.000000</td>\n",
       "      <td>9382.033000</td>\n",
       "    </tr>\n",
       "    <tr>\n",
       "      <th>75%</th>\n",
       "      <td>51.000000</td>\n",
       "      <td>34.693750</td>\n",
       "      <td>2.000000</td>\n",
       "      <td>16639.912515</td>\n",
       "    </tr>\n",
       "    <tr>\n",
       "      <th>max</th>\n",
       "      <td>64.000000</td>\n",
       "      <td>53.130000</td>\n",
       "      <td>5.000000</td>\n",
       "      <td>63770.428010</td>\n",
       "    </tr>\n",
       "  </tbody>\n",
       "</table>\n",
       "</div>"
      ],
      "text/plain": [
       "               age          bmi     children       charges\n",
       "count  1338.000000  1338.000000  1338.000000   1338.000000\n",
       "mean     39.207025    30.663397     1.094918  13270.422265\n",
       "std      14.049960     6.098187     1.205493  12110.011237\n",
       "min      18.000000    15.960000     0.000000   1121.873900\n",
       "25%      27.000000    26.296250     0.000000   4740.287150\n",
       "50%      39.000000    30.400000     1.000000   9382.033000\n",
       "75%      51.000000    34.693750     2.000000  16639.912515\n",
       "max      64.000000    53.130000     5.000000  63770.428010"
      ]
     },
     "execution_count": 63,
     "metadata": {},
     "output_type": "execute_result"
    }
   ],
   "source": [
    "#statistical summary of numerical columns\n",
    "df.describe()"
   ]
  },
  {
   "cell_type": "markdown",
   "id": "9e205ddb",
   "metadata": {},
   "source": [
    "Observations=\n",
    "\n",
    "1. The summary of the dataset looks perfect since there is no negative/invalid values present.\n",
    "\n",
    "\n",
    "2. The number of rows present in the dataset is same in each column wich means there is no null value present.\n",
    "\n",
    "\n",
    "3. In column ['charges', 'children'] mean is greater than meadian which means that the data is skewed to right. \n",
    "\n",
    "\n",
    "4. In column ['bmi', 'charges']  there is a huge differences between 75% and max hence there are outliers present in the data\n",
    "\n",
    "\n",
    "5. we can also notice the standard deviation(std.), max., min., 25% percentile, 50% percentile, 75% percentile values from this describe method."
   ]
  },
  {
   "cell_type": "markdown",
   "id": "41ff99fa",
   "metadata": {},
   "source": [
    "# Data Visualization"
   ]
  },
  {
   "cell_type": "markdown",
   "id": "2ddc9e75",
   "metadata": {},
   "source": [
    "# Univariate Analysis"
   ]
  },
  {
   "cell_type": "code",
   "execution_count": 64,
   "id": "1c32680b",
   "metadata": {},
   "outputs": [
    {
     "data": {
      "image/png": "[encoded data removed]",
      "text/plain": [
       "<Figure size 432x288 with 1 Axes>"
      ]
     },
     "metadata": {
      "needs_background": "light"
     },
     "output_type": "display_data"
    }
   ],
   "source": [
    "sns.distplot(df['age'])\n",
    "plt.show()"
   ]
  },
  {
   "cell_type": "code",
   "execution_count": 65,
   "id": "b13dcf0d",
   "metadata": {},
   "outputs": [
    {
     "data": {
      "image/png": "[encoded data removed]",
      "text/plain": [
       "<Figure size 432x288 with 1 Axes>"
      ]
     },
     "metadata": {
      "needs_background": "light"
     },
     "output_type": "display_data"
    }
   ],
   "source": [
    "sns.distplot(df['bmi'])\n",
    "plt.show()"
   ]
  },
  {
   "cell_type": "code",
   "execution_count": 66,
   "id": "87dde1d3",
   "metadata": {},
   "outputs": [
    {
     "data": {
      "image/png": "[encoded data removed]",
      "text/plain": [
       "<Figure size 432x288 with 1 Axes>"
      ]
     },
     "metadata": {
      "needs_background": "light"
     },
     "output_type": "display_data"
    }
   ],
   "source": [
    "sns.distplot(df['children'])\n",
    "plt.show()"
   ]
  },
  {
   "cell_type": "code",
   "execution_count": 67,
   "id": "9cbd6db8",
   "metadata": {},
   "outputs": [
    {
     "data": {
      "image/png": "[encoded data removed]",
      "text/plain": [
       "<Figure size 432x288 with 1 Axes>"
      ]
     },
     "metadata": {
      "needs_background": "light"
     },
     "output_type": "display_data"
    }
   ],
   "source": [
    "sns.distplot(df['charges'])\n",
    "plt.show()"
   ]
  },
  {
   "cell_type": "code",
   "execution_count": 68,
   "id": "cfa7d0b4",
   "metadata": {},
   "outputs": [
    {
     "data": {
      "image/png": "[encoded data removed]",
      "text/plain": [
       "<Figure size 432x288 with 1 Axes>"
      ]
     },
     "metadata": {
      "needs_background": "light"
     },
     "output_type": "display_data"
    }
   ],
   "source": [
    "sns.countplot(x='sex',data=df)\n",
    "plt.show()"
   ]
  },
  {
   "cell_type": "markdown",
   "id": "a8196a2e",
   "metadata": {},
   "source": [
    "From the above plot we can see that male and female are almost same"
   ]
  },
  {
   "cell_type": "code",
   "execution_count": 69,
   "id": "f41936f4",
   "metadata": {},
   "outputs": [
    {
     "data": {
      "image/png": "[encoded data removed]",
      "text/plain": [
       "<Figure size 432x288 with 1 Axes>"
      ]
     },
     "metadata": {
      "needs_background": "light"
     },
     "output_type": "display_data"
    }
   ],
   "source": [
    "sns.countplot(x='smoker',data=df)\n",
    "plt.show()"
   ]
  },
  {
   "cell_type": "markdown",
   "id": "d8822374",
   "metadata": {},
   "source": [
    "From the above plot we can see that number of smokers are very less that number of non somkers "
   ]
  },
  {
   "cell_type": "code",
   "execution_count": 70,
   "id": "9068f59a",
   "metadata": {},
   "outputs": [
    {
     "data": {
      "image/png": "[encoded data removed]",
      "text/plain": [
       "<Figure size 432x288 with 1 Axes>"
      ]
     },
     "metadata": {
      "needs_background": "light"
     },
     "output_type": "display_data"
    }
   ],
   "source": [
    "sns.countplot(x='region',data=df)\n",
    "plt.show()"
   ]
  },
  {
   "cell_type": "markdown",
   "id": "b5604bb5",
   "metadata": {},
   "source": [
    "From the above plot we can see that southwest, northwest and northeast has similar values but southeast has higher values "
   ]
  },
  {
   "cell_type": "code",
   "execution_count": 71,
   "id": "52c4bcd3",
   "metadata": {},
   "outputs": [
    {
     "data": {
      "image/png": "[encoded data removed]",
      "text/plain": [
       "<Figure size 432x288 with 1 Axes>"
      ]
     },
     "metadata": {
      "needs_background": "light"
     },
     "output_type": "display_data"
    }
   ],
   "source": [
    "sns.countplot(x='children',data=df)\n",
    "plt.show()"
   ]
  },
  {
   "cell_type": "markdown",
   "id": "4f94e2af",
   "metadata": {},
   "source": [
    "# Bivairate Analysis"
   ]
  },
  {
   "cell_type": "code",
   "execution_count": 72,
   "id": "58001aa4",
   "metadata": {},
   "outputs": [
    {
     "data": {
      "image/png": "[encoded data removed]",
      "text/plain": [
       "<Figure size 432x288 with 1 Axes>"
      ]
     },
     "metadata": {
      "needs_background": "light"
     },
     "output_type": "display_data"
    }
   ],
   "source": [
    "plt.title('Comparison between bmi and age')\n",
    "sns.scatterplot(x='bmi',y='age', data=df, palette='bright')\n",
    "plt.show()"
   ]
  },
  {
   "cell_type": "code",
   "execution_count": 73,
   "id": "fa183c4a",
   "metadata": {},
   "outputs": [
    {
     "data": {
      "image/png": "[encoded data removed]",
      "text/plain": [
       "<Figure size 432x288 with 1 Axes>"
      ]
     },
     "metadata": {
      "needs_background": "light"
     },
     "output_type": "display_data"
    }
   ],
   "source": [
    "plt.title('Comparison between charges and age')\n",
    "sns.scatterplot(y='charges',x='age', data=df, palette='bright')\n",
    "plt.show()"
   ]
  },
  {
   "cell_type": "code",
   "execution_count": 74,
   "id": "b62099fd",
   "metadata": {},
   "outputs": [
    {
     "data": {
      "image/png": "[encoded data removed]",
      "text/plain": [
       "<Figure size 432x288 with 1 Axes>"
      ]
     },
     "metadata": {
      "needs_background": "light"
     },
     "output_type": "display_data"
    }
   ],
   "source": [
    "plt.title('Comparison between charges and bmi')\n",
    "sns.scatterplot(x='charges',y='bmi', data=df, palette='bright')\n",
    "plt.show()"
   ]
  },
  {
   "cell_type": "code",
   "execution_count": 75,
   "id": "b7e352c6",
   "metadata": {},
   "outputs": [
    {
     "data": {
      "image/png": "[encoded data removed]",
      "text/plain": [
       "<Figure size 430.5x360 with 1 Axes>"
      ]
     },
     "metadata": {
      "needs_background": "light"
     },
     "output_type": "display_data"
    }
   ],
   "source": [
    "sns.catplot(x='smoker', hue='sex', palette='gnuplot', kind='count', data=df)\n",
    "plt.show()"
   ]
  },
  {
   "cell_type": "code",
   "execution_count": 76,
   "id": "ddeb5deb",
   "metadata": {},
   "outputs": [
    {
     "data": {
      "image/png": "[encoded data removed]",
      "text/plain": [
       "<Figure size 430.5x360 with 1 Axes>"
      ]
     },
     "metadata": {
      "needs_background": "light"
     },
     "output_type": "display_data"
    }
   ],
   "source": [
    "sns.catplot(x='region', hue='sex', palette='gnuplot', kind='count', data=df)\n",
    "plt.show()"
   ]
  },
  {
   "cell_type": "code",
   "execution_count": 77,
   "id": "a2a35ad1",
   "metadata": {},
   "outputs": [
    {
     "data": {
      "image/png": "[encoded data removed]",
      "text/plain": [
       "<Figure size 413.25x360 with 1 Axes>"
      ]
     },
     "metadata": {
      "needs_background": "light"
     },
     "output_type": "display_data"
    }
   ],
   "source": [
    "sns.catplot(x='region', hue='smoker', palette='gnuplot', kind='count', data=df)\n",
    "plt.show()"
   ]
  },
  {
   "cell_type": "code",
   "execution_count": 78,
   "id": "cb4f0913",
   "metadata": {},
   "outputs": [
    {
     "data": {
      "image/png": "[encoded data removed]",
      "text/plain": [
       "<Figure size 413.25x360 with 1 Axes>"
      ]
     },
     "metadata": {
      "needs_background": "light"
     },
     "output_type": "display_data"
    }
   ],
   "source": [
    "sns.catplot(x='children', hue='smoker', palette='gnuplot', kind='count', data=df)\n",
    "plt.show()"
   ]
  },
  {
   "cell_type": "code",
   "execution_count": 79,
   "id": "5d8feda3",
   "metadata": {},
   "outputs": [
    {
     "data": {
      "image/png": "[encoded data removed]",
      "text/plain": [
       "<Figure size 430.5x360 with 1 Axes>"
      ]
     },
     "metadata": {
      "needs_background": "light"
     },
     "output_type": "display_data"
    }
   ],
   "source": [
    "sns.catplot(x='children', hue='sex', palette='gnuplot', kind='count', data=df)\n",
    "plt.show()"
   ]
  },
  {
   "cell_type": "code",
   "execution_count": 80,
   "id": "ae4aee10",
   "metadata": {},
   "outputs": [
    {
     "data": {
      "image/png": "[encoded data removed]",
      "text/plain": [
       "<Figure size 447.25x360 with 1 Axes>"
      ]
     },
     "metadata": {
      "needs_background": "light"
     },
     "output_type": "display_data"
    }
   ],
   "source": [
    "sns.catplot(x='children', hue='region', palette='gnuplot', kind='count', data=df)\n",
    "plt.show()"
   ]
  },
  {
   "cell_type": "markdown",
   "id": "687d0770",
   "metadata": {},
   "source": [
    "# Multivarient Analysis "
   ]
  },
  {
   "cell_type": "code",
   "execution_count": 81,
   "id": "3515d9a2",
   "metadata": {},
   "outputs": [
    {
     "data": {
      "image/png": "[encoded data removed]",
      "text/plain": [
       "<Figure size 720x720 with 20 Axes>"
      ]
     },
     "metadata": {
      "needs_background": "light"
     },
     "output_type": "display_data"
    }
   ],
   "source": [
    "sns.pairplot(df)\n",
    "plt.show()"
   ]
  },
  {
   "cell_type": "markdown",
   "id": "4af0100e",
   "metadata": {},
   "source": [
    "Pairplot help us to visualize the relationship between various features of the dataset"
   ]
  },
  {
   "cell_type": "markdown",
   "id": "a71f02b7",
   "metadata": {},
   "source": [
    "# Checking for the outliers"
   ]
  },
  {
   "cell_type": "markdown",
   "id": "7fba078e",
   "metadata": {},
   "source": [
    "To detect the outliers we use boxplot visualiztion to see if outliers are present and not"
   ]
  },
  {
   "cell_type": "code",
   "execution_count": 82,
   "id": "87318f47",
   "metadata": {},
   "outputs": [
    {
     "data": {
      "image/png": "[encoded data removed]",
      "text/plain": [
       "<Figure size 432x288 with 1 Axes>"
      ]
     },
     "metadata": {
      "needs_background": "light"
     },
     "output_type": "display_data"
    },
    {
     "data": {
      "image/png": "[encoded data removed]",
      "text/plain": [
       "<Figure size 432x288 with 1 Axes>"
      ]
     },
     "metadata": {
      "needs_background": "light"
     },
     "output_type": "display_data"
    },
    {
     "data": {
      "image/png": "[encoded data removed]",
      "text/plain": [
       "<Figure size 432x288 with 1 Axes>"
      ]
     },
     "metadata": {
      "needs_background": "light"
     },
     "output_type": "display_data"
    },
    {
     "data": {
      "image/png": "[encoded data removed]",
      "text/plain": [
       "<Figure size 432x288 with 1 Axes>"
      ]
     },
     "metadata": {
      "needs_background": "light"
     },
     "output_type": "display_data"
    }
   ],
   "source": [
    "for i in numerical_col:\n",
    "        df[i].plot.box()\n",
    "        plt.show()\n"
   ]
  },
  {
   "cell_type": "markdown",
   "id": "8f196aa0",
   "metadata": {},
   "source": [
    "Here we can see that column 'bmi' & 'charges' has outliers"
   ]
  },
  {
   "cell_type": "markdown",
   "id": "51709a0f",
   "metadata": {},
   "source": [
    "# Removing outliers"
   ]
  },
  {
   "cell_type": "code",
   "execution_count": 83,
   "id": "976f0982",
   "metadata": {},
   "outputs": [
    {
     "data": {
      "text/plain": [
       "0       0.453320\n",
       "1       0.509621\n",
       "2       0.383307\n",
       "3       1.305531\n",
       "4       0.292556\n",
       "          ...   \n",
       "1333    0.050297\n",
       "1334    0.206139\n",
       "1335    1.014878\n",
       "1336    0.797813\n",
       "1337    0.261388\n",
       "Name: bmi, Length: 1338, dtype: float64"
      ]
     },
     "execution_count": 83,
     "metadata": {},
     "output_type": "execute_result"
    }
   ],
   "source": [
    "#Removing outliers\n",
    "from scipy.stats import zscore\n",
    "z=np.abs(zscore(df['bmi']))\n",
    "\n",
    "z"
   ]
  },
  {
   "cell_type": "code",
   "execution_count": 84,
   "id": "92457c28",
   "metadata": {},
   "outputs": [
    {
     "name": "stdout",
     "output_type": "stream",
     "text": [
      "(array([ 116,  847, 1047, 1317], dtype=int64),)\n"
     ]
    }
   ],
   "source": [
    "threshold=3\n",
    "\n",
    "print(np.where(z>3))"
   ]
  },
  {
   "cell_type": "code",
   "execution_count": 85,
   "id": "f7492c37",
   "metadata": {},
   "outputs": [],
   "source": [
    "dfz=pd.DataFrame(z)"
   ]
  },
  {
   "cell_type": "code",
   "execution_count": 86,
   "id": "ecc3e187",
   "metadata": {},
   "outputs": [
    {
     "data": {
      "text/html": [
       "<div>\n",
       "<style scoped>\n",
       "    .dataframe tbody tr th:only-of-type {\n",
       "        vertical-align: middle;\n",
       "    }\n",
       "\n",
       "    .dataframe tbody tr th {\n",
       "        vertical-align: top;\n",
       "    }\n",
       "\n",
       "    .dataframe thead th {\n",
       "        text-align: right;\n",
       "    }\n",
       "</style>\n",
       "<table border=\"1\" class=\"dataframe\">\n",
       "  <thead>\n",
       "    <tr style=\"text-align: right;\">\n",
       "      <th></th>\n",
       "      <th>age</th>\n",
       "      <th>sex</th>\n",
       "      <th>bmi</th>\n",
       "      <th>children</th>\n",
       "      <th>smoker</th>\n",
       "      <th>region</th>\n",
       "      <th>charges</th>\n",
       "    </tr>\n",
       "  </thead>\n",
       "  <tbody>\n",
       "    <tr>\n",
       "      <th>0</th>\n",
       "      <td>19</td>\n",
       "      <td>female</td>\n",
       "      <td>27.900</td>\n",
       "      <td>0</td>\n",
       "      <td>yes</td>\n",
       "      <td>southwest</td>\n",
       "      <td>16884.92400</td>\n",
       "    </tr>\n",
       "    <tr>\n",
       "      <th>1</th>\n",
       "      <td>18</td>\n",
       "      <td>male</td>\n",
       "      <td>33.770</td>\n",
       "      <td>1</td>\n",
       "      <td>no</td>\n",
       "      <td>southeast</td>\n",
       "      <td>1725.55230</td>\n",
       "    </tr>\n",
       "    <tr>\n",
       "      <th>2</th>\n",
       "      <td>28</td>\n",
       "      <td>male</td>\n",
       "      <td>33.000</td>\n",
       "      <td>3</td>\n",
       "      <td>no</td>\n",
       "      <td>southeast</td>\n",
       "      <td>4449.46200</td>\n",
       "    </tr>\n",
       "    <tr>\n",
       "      <th>3</th>\n",
       "      <td>33</td>\n",
       "      <td>male</td>\n",
       "      <td>22.705</td>\n",
       "      <td>0</td>\n",
       "      <td>no</td>\n",
       "      <td>northwest</td>\n",
       "      <td>21984.47061</td>\n",
       "    </tr>\n",
       "    <tr>\n",
       "      <th>4</th>\n",
       "      <td>32</td>\n",
       "      <td>male</td>\n",
       "      <td>28.880</td>\n",
       "      <td>0</td>\n",
       "      <td>no</td>\n",
       "      <td>northwest</td>\n",
       "      <td>3866.85520</td>\n",
       "    </tr>\n",
       "    <tr>\n",
       "      <th>...</th>\n",
       "      <td>...</td>\n",
       "      <td>...</td>\n",
       "      <td>...</td>\n",
       "      <td>...</td>\n",
       "      <td>...</td>\n",
       "      <td>...</td>\n",
       "      <td>...</td>\n",
       "    </tr>\n",
       "    <tr>\n",
       "      <th>1333</th>\n",
       "      <td>50</td>\n",
       "      <td>male</td>\n",
       "      <td>30.970</td>\n",
       "      <td>3</td>\n",
       "      <td>no</td>\n",
       "      <td>northwest</td>\n",
       "      <td>10600.54830</td>\n",
       "    </tr>\n",
       "    <tr>\n",
       "      <th>1334</th>\n",
       "      <td>18</td>\n",
       "      <td>female</td>\n",
       "      <td>31.920</td>\n",
       "      <td>0</td>\n",
       "      <td>no</td>\n",
       "      <td>northeast</td>\n",
       "      <td>2205.98080</td>\n",
       "    </tr>\n",
       "    <tr>\n",
       "      <th>1335</th>\n",
       "      <td>18</td>\n",
       "      <td>female</td>\n",
       "      <td>36.850</td>\n",
       "      <td>0</td>\n",
       "      <td>no</td>\n",
       "      <td>southeast</td>\n",
       "      <td>1629.83350</td>\n",
       "    </tr>\n",
       "    <tr>\n",
       "      <th>1336</th>\n",
       "      <td>21</td>\n",
       "      <td>female</td>\n",
       "      <td>25.800</td>\n",
       "      <td>0</td>\n",
       "      <td>no</td>\n",
       "      <td>southwest</td>\n",
       "      <td>2007.94500</td>\n",
       "    </tr>\n",
       "    <tr>\n",
       "      <th>1337</th>\n",
       "      <td>61</td>\n",
       "      <td>female</td>\n",
       "      <td>29.070</td>\n",
       "      <td>0</td>\n",
       "      <td>yes</td>\n",
       "      <td>northwest</td>\n",
       "      <td>29141.36030</td>\n",
       "    </tr>\n",
       "  </tbody>\n",
       "</table>\n",
       "<p>1334 rows × 7 columns</p>\n",
       "</div>"
      ],
      "text/plain": [
       "      age     sex     bmi  children smoker     region      charges\n",
       "0      19  female  27.900         0    yes  southwest  16884.92400\n",
       "1      18    male  33.770         1     no  southeast   1725.55230\n",
       "2      28    male  33.000         3     no  southeast   4449.46200\n",
       "3      33    male  22.705         0     no  northwest  21984.47061\n",
       "4      32    male  28.880         0     no  northwest   3866.85520\n",
       "...   ...     ...     ...       ...    ...        ...          ...\n",
       "1333   50    male  30.970         3     no  northwest  10600.54830\n",
       "1334   18  female  31.920         0     no  northeast   2205.98080\n",
       "1335   18  female  36.850         0     no  southeast   1629.83350\n",
       "1336   21  female  25.800         0     no  southwest   2007.94500\n",
       "1337   61  female  29.070         0    yes  northwest  29141.36030\n",
       "\n",
       "[1334 rows x 7 columns]"
      ]
     },
     "execution_count": 86,
     "metadata": {},
     "output_type": "execute_result"
    }
   ],
   "source": [
    "df_new=df[(dfz<3).all(axis=1)]\n",
    "\n",
    "df_new"
   ]
  },
  {
   "cell_type": "code",
   "execution_count": 105,
   "id": "bc9da7b1",
   "metadata": {},
   "outputs": [
    {
     "data": {
      "text/plain": [
       "(1334, 7)"
      ]
     },
     "execution_count": 105,
     "metadata": {},
     "output_type": "execute_result"
    }
   ],
   "source": [
    "df_new.shape"
   ]
  },
  {
   "cell_type": "code",
   "execution_count": 106,
   "id": "fbadb266",
   "metadata": {},
   "outputs": [
    {
     "data": {
      "text/plain": [
       "(1338, 7)"
      ]
     },
     "execution_count": 106,
     "metadata": {},
     "output_type": "execute_result"
    }
   ],
   "source": [
    "df.shape"
   ]
  },
  {
   "cell_type": "code",
   "execution_count": 107,
   "id": "4bc07185",
   "metadata": {},
   "outputs": [],
   "source": [
    "df=df_new"
   ]
  },
  {
   "cell_type": "code",
   "execution_count": 108,
   "id": "32972a28",
   "metadata": {},
   "outputs": [
    {
     "data": {
      "text/plain": [
       "(1334, 7)"
      ]
     },
     "execution_count": 108,
     "metadata": {},
     "output_type": "execute_result"
    }
   ],
   "source": [
    "df.shape"
   ]
  },
  {
   "cell_type": "markdown",
   "id": "160907c5",
   "metadata": {},
   "source": [
    "# Checking skewness"
   ]
  },
  {
   "cell_type": "code",
   "execution_count": 109,
   "id": "7077b4ea",
   "metadata": {},
   "outputs": [
    {
     "data": {
      "text/plain": [
       "age         0.053603\n",
       "bmi         0.205622\n",
       "children    0.935415\n",
       "charges     1.517663\n",
       "dtype: float64"
      ]
     },
     "execution_count": 109,
     "metadata": {},
     "output_type": "execute_result"
    }
   ],
   "source": [
    "df.skew()"
   ]
  },
  {
   "cell_type": "markdown",
   "id": "7e28e603",
   "metadata": {},
   "source": [
    "accpectable range is -0.5 to +0.5 "
   ]
  },
  {
   "cell_type": "markdown",
   "id": "10efc037",
   "metadata": {},
   "source": [
    "Here we can say that column['children' & 'charges'] has skewness present in there but we don't remove skewness from the target variable. so we remove the skewness from the children column "
   ]
  },
  {
   "cell_type": "code",
   "execution_count": 110,
   "id": "27d1ae27",
   "metadata": {},
   "outputs": [],
   "source": [
    "#Removing skewness using cuberoot method\n",
    "df['children']=np.cbrt(df['children'])"
   ]
  },
  {
   "cell_type": "markdown",
   "id": "9230a16b",
   "metadata": {},
   "source": [
    "We have removed the skewness using cube root method"
   ]
  },
  {
   "cell_type": "code",
   "execution_count": 111,
   "id": "a937bd02",
   "metadata": {},
   "outputs": [
    {
     "data": {
      "text/plain": [
       "age         0.053603\n",
       "bmi         0.205622\n",
       "children   -0.098167\n",
       "charges     1.517663\n",
       "dtype: float64"
      ]
     },
     "execution_count": 111,
     "metadata": {},
     "output_type": "execute_result"
    }
   ],
   "source": [
    "#checking skewness again\n",
    "df.skew()"
   ]
  },
  {
   "cell_type": "markdown",
   "id": "29ed71ed",
   "metadata": {},
   "source": [
    "We can see that the skewness is removed from the children column "
   ]
  },
  {
   "cell_type": "code",
   "execution_count": 113,
   "id": "216e1e22",
   "metadata": {},
   "outputs": [
    {
     "data": {
      "image/png": "[encoded data removed]",
      "text/plain": [
       "<Figure size 432x288 with 1 Axes>"
      ]
     },
     "metadata": {
      "needs_background": "light"
     },
     "output_type": "display_data"
    },
    {
     "data": {
      "image/png": "[encoded data removed]",
      "text/plain": [
       "<Figure size 432x288 with 1 Axes>"
      ]
     },
     "metadata": {
      "needs_background": "light"
     },
     "output_type": "display_data"
    },
    {
     "data": {
      "image/png": "[encoded data removed]",
      "text/plain": [
       "<Figure size 432x288 with 1 Axes>"
      ]
     },
     "metadata": {
      "needs_background": "light"
     },
     "output_type": "display_data"
    },
    {
     "data": {
      "image/png": "[encoded data removed]",
      "text/plain": [
       "<Figure size 432x288 with 1 Axes>"
      ]
     },
     "metadata": {
      "needs_background": "light"
     },
     "output_type": "display_data"
    },
    {
     "data": {
      "image/png": "[encoded data removed]",
      "text/plain": [
       "<Figure size 432x288 with 1 Axes>"
      ]
     },
     "metadata": {
      "needs_background": "light"
     },
     "output_type": "display_data"
    },
    {
     "data": {
      "image/png": "[encoded data removed]",
      "text/plain": [
       "<Figure size 432x288 with 1 Axes>"
      ]
     },
     "metadata": {
      "needs_background": "light"
     },
     "output_type": "display_data"
    },
    {
     "data": {
      "image/png": "[encoded data removed]",
      "text/plain": [
       "<Figure size 432x288 with 1 Axes>"
      ]
     },
     "metadata": {
      "needs_background": "light"
     },
     "output_type": "display_data"
    }
   ],
   "source": [
    "##checking for skewness by visualizing\n",
    "for i in df.columns:\n",
    "    sns.histplot(df[i])\n",
    "    plt.show()"
   ]
  },
  {
   "cell_type": "markdown",
   "id": "62b2f664",
   "metadata": {},
   "source": [
    "Here we can see that the skewness is removed from the column."
   ]
  },
  {
   "cell_type": "markdown",
   "id": "b1bab4db",
   "metadata": {},
   "source": [
    "# Encoding Categorical Columns"
   ]
  },
  {
   "cell_type": "code",
   "execution_count": 114,
   "id": "15ed0a5b",
   "metadata": {},
   "outputs": [
    {
     "data": {
      "text/html": [
       "<div>\n",
       "<style scoped>\n",
       "    .dataframe tbody tr th:only-of-type {\n",
       "        vertical-align: middle;\n",
       "    }\n",
       "\n",
       "    .dataframe tbody tr th {\n",
       "        vertical-align: top;\n",
       "    }\n",
       "\n",
       "    .dataframe thead th {\n",
       "        text-align: right;\n",
       "    }\n",
       "</style>\n",
       "<table border=\"1\" class=\"dataframe\">\n",
       "  <thead>\n",
       "    <tr style=\"text-align: right;\">\n",
       "      <th></th>\n",
       "      <th>age</th>\n",
       "      <th>sex</th>\n",
       "      <th>bmi</th>\n",
       "      <th>children</th>\n",
       "      <th>smoker</th>\n",
       "      <th>region</th>\n",
       "      <th>charges</th>\n",
       "    </tr>\n",
       "  </thead>\n",
       "  <tbody>\n",
       "    <tr>\n",
       "      <th>0</th>\n",
       "      <td>19</td>\n",
       "      <td>0</td>\n",
       "      <td>27.900</td>\n",
       "      <td>0.00000</td>\n",
       "      <td>1</td>\n",
       "      <td>3</td>\n",
       "      <td>16884.92400</td>\n",
       "    </tr>\n",
       "    <tr>\n",
       "      <th>1</th>\n",
       "      <td>18</td>\n",
       "      <td>1</td>\n",
       "      <td>33.770</td>\n",
       "      <td>1.00000</td>\n",
       "      <td>0</td>\n",
       "      <td>2</td>\n",
       "      <td>1725.55230</td>\n",
       "    </tr>\n",
       "    <tr>\n",
       "      <th>2</th>\n",
       "      <td>28</td>\n",
       "      <td>1</td>\n",
       "      <td>33.000</td>\n",
       "      <td>1.44225</td>\n",
       "      <td>0</td>\n",
       "      <td>2</td>\n",
       "      <td>4449.46200</td>\n",
       "    </tr>\n",
       "    <tr>\n",
       "      <th>3</th>\n",
       "      <td>33</td>\n",
       "      <td>1</td>\n",
       "      <td>22.705</td>\n",
       "      <td>0.00000</td>\n",
       "      <td>0</td>\n",
       "      <td>1</td>\n",
       "      <td>21984.47061</td>\n",
       "    </tr>\n",
       "    <tr>\n",
       "      <th>4</th>\n",
       "      <td>32</td>\n",
       "      <td>1</td>\n",
       "      <td>28.880</td>\n",
       "      <td>0.00000</td>\n",
       "      <td>0</td>\n",
       "      <td>1</td>\n",
       "      <td>3866.85520</td>\n",
       "    </tr>\n",
       "    <tr>\n",
       "      <th>...</th>\n",
       "      <td>...</td>\n",
       "      <td>...</td>\n",
       "      <td>...</td>\n",
       "      <td>...</td>\n",
       "      <td>...</td>\n",
       "      <td>...</td>\n",
       "      <td>...</td>\n",
       "    </tr>\n",
       "    <tr>\n",
       "      <th>1333</th>\n",
       "      <td>50</td>\n",
       "      <td>1</td>\n",
       "      <td>30.970</td>\n",
       "      <td>1.44225</td>\n",
       "      <td>0</td>\n",
       "      <td>1</td>\n",
       "      <td>10600.54830</td>\n",
       "    </tr>\n",
       "    <tr>\n",
       "      <th>1334</th>\n",
       "      <td>18</td>\n",
       "      <td>0</td>\n",
       "      <td>31.920</td>\n",
       "      <td>0.00000</td>\n",
       "      <td>0</td>\n",
       "      <td>0</td>\n",
       "      <td>2205.98080</td>\n",
       "    </tr>\n",
       "    <tr>\n",
       "      <th>1335</th>\n",
       "      <td>18</td>\n",
       "      <td>0</td>\n",
       "      <td>36.850</td>\n",
       "      <td>0.00000</td>\n",
       "      <td>0</td>\n",
       "      <td>2</td>\n",
       "      <td>1629.83350</td>\n",
       "    </tr>\n",
       "    <tr>\n",
       "      <th>1336</th>\n",
       "      <td>21</td>\n",
       "      <td>0</td>\n",
       "      <td>25.800</td>\n",
       "      <td>0.00000</td>\n",
       "      <td>0</td>\n",
       "      <td>3</td>\n",
       "      <td>2007.94500</td>\n",
       "    </tr>\n",
       "    <tr>\n",
       "      <th>1337</th>\n",
       "      <td>61</td>\n",
       "      <td>0</td>\n",
       "      <td>29.070</td>\n",
       "      <td>0.00000</td>\n",
       "      <td>1</td>\n",
       "      <td>1</td>\n",
       "      <td>29141.36030</td>\n",
       "    </tr>\n",
       "  </tbody>\n",
       "</table>\n",
       "<p>1334 rows × 7 columns</p>\n",
       "</div>"
      ],
      "text/plain": [
       "      age  sex     bmi  children  smoker  region      charges\n",
       "0      19    0  27.900   0.00000       1       3  16884.92400\n",
       "1      18    1  33.770   1.00000       0       2   1725.55230\n",
       "2      28    1  33.000   1.44225       0       2   4449.46200\n",
       "3      33    1  22.705   0.00000       0       1  21984.47061\n",
       "4      32    1  28.880   0.00000       0       1   3866.85520\n",
       "...   ...  ...     ...       ...     ...     ...          ...\n",
       "1333   50    1  30.970   1.44225       0       1  10600.54830\n",
       "1334   18    0  31.920   0.00000       0       0   2205.98080\n",
       "1335   18    0  36.850   0.00000       0       2   1629.83350\n",
       "1336   21    0  25.800   0.00000       0       3   2007.94500\n",
       "1337   61    0  29.070   0.00000       1       1  29141.36030\n",
       "\n",
       "[1334 rows x 7 columns]"
      ]
     },
     "execution_count": 114,
     "metadata": {},
     "output_type": "execute_result"
    }
   ],
   "source": [
    "#Encoding categorical columns using label Encoder\n",
    "\n",
    "from sklearn.preprocessing import LabelEncoder\n",
    "LE=LabelEncoder()\n",
    "for i in df.columns:\n",
    "    if df[i].dtypes=='object':\n",
    "        df[i]=LE.fit_transform(df[i].values.reshape(-1,1))\n",
    "        \n",
    "df"
   ]
  },
  {
   "cell_type": "markdown",
   "id": "5b6dad4b",
   "metadata": {},
   "source": [
    "We have converted the categorical columns into numerical columns using label encoder method"
   ]
  },
  {
   "cell_type": "code",
   "execution_count": 115,
   "id": "f9b990c5",
   "metadata": {},
   "outputs": [
    {
     "name": "stdout",
     "output_type": "stream",
     "text": [
      "<class 'pandas.core.frame.DataFrame'>\n",
      "Int64Index: 1334 entries, 0 to 1337\n",
      "Data columns (total 7 columns):\n",
      " #   Column    Non-Null Count  Dtype  \n",
      "---  ------    --------------  -----  \n",
      " 0   age       1334 non-null   int64  \n",
      " 1   sex       1334 non-null   int32  \n",
      " 2   bmi       1334 non-null   float64\n",
      " 3   children  1334 non-null   float64\n",
      " 4   smoker    1334 non-null   int32  \n",
      " 5   region    1334 non-null   int32  \n",
      " 6   charges   1334 non-null   float64\n",
      "dtypes: float64(3), int32(3), int64(1)\n",
      "memory usage: 67.7 KB\n"
     ]
    }
   ],
   "source": [
    "df.info()"
   ]
  },
  {
   "cell_type": "markdown",
   "id": "77e9fc1d",
   "metadata": {},
   "source": [
    "Here we can see that the data type for the categorical column is changes from 'object' to 'int32' "
   ]
  },
  {
   "cell_type": "code",
   "execution_count": 116,
   "id": "2ace5f1d",
   "metadata": {},
   "outputs": [
    {
     "data": {
      "text/html": [
       "<div>\n",
       "<style scoped>\n",
       "    .dataframe tbody tr th:only-of-type {\n",
       "        vertical-align: middle;\n",
       "    }\n",
       "\n",
       "    .dataframe tbody tr th {\n",
       "        vertical-align: top;\n",
       "    }\n",
       "\n",
       "    .dataframe thead th {\n",
       "        text-align: right;\n",
       "    }\n",
       "</style>\n",
       "<table border=\"1\" class=\"dataframe\">\n",
       "  <thead>\n",
       "    <tr style=\"text-align: right;\">\n",
       "      <th></th>\n",
       "      <th>age</th>\n",
       "      <th>sex</th>\n",
       "      <th>bmi</th>\n",
       "      <th>children</th>\n",
       "      <th>smoker</th>\n",
       "      <th>region</th>\n",
       "      <th>charges</th>\n",
       "    </tr>\n",
       "  </thead>\n",
       "  <tbody>\n",
       "    <tr>\n",
       "      <th>count</th>\n",
       "      <td>1334.000000</td>\n",
       "      <td>1334.000000</td>\n",
       "      <td>1334.000000</td>\n",
       "      <td>1334.000000</td>\n",
       "      <td>1334.000000</td>\n",
       "      <td>1334.000000</td>\n",
       "      <td>1334.000000</td>\n",
       "    </tr>\n",
       "    <tr>\n",
       "      <th>mean</th>\n",
       "      <td>39.233883</td>\n",
       "      <td>0.503748</td>\n",
       "      <td>30.601555</td>\n",
       "      <td>0.690614</td>\n",
       "      <td>0.204648</td>\n",
       "      <td>1.514243</td>\n",
       "      <td>13265.622751</td>\n",
       "    </tr>\n",
       "    <tr>\n",
       "      <th>std</th>\n",
       "      <td>14.034654</td>\n",
       "      <td>0.500173</td>\n",
       "      <td>6.000927</td>\n",
       "      <td>0.617894</td>\n",
       "      <td>0.403595</td>\n",
       "      <td>1.106222</td>\n",
       "      <td>12089.666548</td>\n",
       "    </tr>\n",
       "    <tr>\n",
       "      <th>min</th>\n",
       "      <td>18.000000</td>\n",
       "      <td>0.000000</td>\n",
       "      <td>15.960000</td>\n",
       "      <td>0.000000</td>\n",
       "      <td>0.000000</td>\n",
       "      <td>0.000000</td>\n",
       "      <td>1121.873900</td>\n",
       "    </tr>\n",
       "    <tr>\n",
       "      <th>25%</th>\n",
       "      <td>27.000000</td>\n",
       "      <td>0.000000</td>\n",
       "      <td>26.237500</td>\n",
       "      <td>0.000000</td>\n",
       "      <td>0.000000</td>\n",
       "      <td>1.000000</td>\n",
       "      <td>4746.521225</td>\n",
       "    </tr>\n",
       "    <tr>\n",
       "      <th>50%</th>\n",
       "      <td>39.000000</td>\n",
       "      <td>1.000000</td>\n",
       "      <td>30.332500</td>\n",
       "      <td>1.000000</td>\n",
       "      <td>0.000000</td>\n",
       "      <td>2.000000</td>\n",
       "      <td>9382.033000</td>\n",
       "    </tr>\n",
       "    <tr>\n",
       "      <th>75%</th>\n",
       "      <td>51.000000</td>\n",
       "      <td>1.000000</td>\n",
       "      <td>34.595000</td>\n",
       "      <td>1.259921</td>\n",
       "      <td>0.000000</td>\n",
       "      <td>2.000000</td>\n",
       "      <td>16639.912515</td>\n",
       "    </tr>\n",
       "    <tr>\n",
       "      <th>max</th>\n",
       "      <td>64.000000</td>\n",
       "      <td>1.000000</td>\n",
       "      <td>48.070000</td>\n",
       "      <td>1.709976</td>\n",
       "      <td>1.000000</td>\n",
       "      <td>3.000000</td>\n",
       "      <td>63770.428010</td>\n",
       "    </tr>\n",
       "  </tbody>\n",
       "</table>\n",
       "</div>"
      ],
      "text/plain": [
       "               age          sex          bmi     children       smoker  \\\n",
       "count  1334.000000  1334.000000  1334.000000  1334.000000  1334.000000   \n",
       "mean     39.233883     0.503748    30.601555     0.690614     0.204648   \n",
       "std      14.034654     0.500173     6.000927     0.617894     0.403595   \n",
       "min      18.000000     0.000000    15.960000     0.000000     0.000000   \n",
       "25%      27.000000     0.000000    26.237500     0.000000     0.000000   \n",
       "50%      39.000000     1.000000    30.332500     1.000000     0.000000   \n",
       "75%      51.000000     1.000000    34.595000     1.259921     0.000000   \n",
       "max      64.000000     1.000000    48.070000     1.709976     1.000000   \n",
       "\n",
       "            region       charges  \n",
       "count  1334.000000   1334.000000  \n",
       "mean      1.514243  13265.622751  \n",
       "std       1.106222  12089.666548  \n",
       "min       0.000000   1121.873900  \n",
       "25%       1.000000   4746.521225  \n",
       "50%       2.000000   9382.033000  \n",
       "75%       2.000000  16639.912515  \n",
       "max       3.000000  63770.428010  "
      ]
     },
     "execution_count": 116,
     "metadata": {},
     "output_type": "execute_result"
    }
   ],
   "source": [
    "#statistical summary  \n",
    "df.describe()"
   ]
  },
  {
   "cell_type": "markdown",
   "id": "5708c41a",
   "metadata": {},
   "source": [
    "After encoding the categorical columns we can see all columns details here. The counts of all the columns are same that means no null values in the dataset. This describe method describe the count,mean,std.,IQR and max values of all the columns."
   ]
  },
  {
   "cell_type": "markdown",
   "id": "ee3898b7",
   "metadata": {},
   "source": [
    "# Correlation between target variable and independent variables"
   ]
  },
  {
   "cell_type": "code",
   "execution_count": 117,
   "id": "47b982d1",
   "metadata": {},
   "outputs": [
    {
     "data": {
      "text/html": [
       "<div>\n",
       "<style scoped>\n",
       "    .dataframe tbody tr th:only-of-type {\n",
       "        vertical-align: middle;\n",
       "    }\n",
       "\n",
       "    .dataframe tbody tr th {\n",
       "        vertical-align: top;\n",
       "    }\n",
       "\n",
       "    .dataframe thead th {\n",
       "        text-align: right;\n",
       "    }\n",
       "</style>\n",
       "<table border=\"1\" class=\"dataframe\">\n",
       "  <thead>\n",
       "    <tr style=\"text-align: right;\">\n",
       "      <th></th>\n",
       "      <th>age</th>\n",
       "      <th>sex</th>\n",
       "      <th>bmi</th>\n",
       "      <th>children</th>\n",
       "      <th>smoker</th>\n",
       "      <th>region</th>\n",
       "      <th>charges</th>\n",
       "    </tr>\n",
       "  </thead>\n",
       "  <tbody>\n",
       "    <tr>\n",
       "      <th>age</th>\n",
       "      <td>1.000000</td>\n",
       "      <td>-0.019041</td>\n",
       "      <td>0.118887</td>\n",
       "      <td>0.049851</td>\n",
       "      <td>-0.023820</td>\n",
       "      <td>0.002974</td>\n",
       "      <td>0.301360</td>\n",
       "    </tr>\n",
       "    <tr>\n",
       "      <th>sex</th>\n",
       "      <td>-0.019041</td>\n",
       "      <td>1.000000</td>\n",
       "      <td>0.037031</td>\n",
       "      <td>0.017140</td>\n",
       "      <td>0.076096</td>\n",
       "      <td>0.003293</td>\n",
       "      <td>0.057165</td>\n",
       "    </tr>\n",
       "    <tr>\n",
       "      <th>bmi</th>\n",
       "      <td>0.118887</td>\n",
       "      <td>0.037031</td>\n",
       "      <td>1.000000</td>\n",
       "      <td>0.019930</td>\n",
       "      <td>0.002264</td>\n",
       "      <td>0.155877</td>\n",
       "      <td>0.200799</td>\n",
       "    </tr>\n",
       "    <tr>\n",
       "      <th>children</th>\n",
       "      <td>0.049851</td>\n",
       "      <td>0.017140</td>\n",
       "      <td>0.019930</td>\n",
       "      <td>1.000000</td>\n",
       "      <td>0.010463</td>\n",
       "      <td>0.014558</td>\n",
       "      <td>0.071465</td>\n",
       "    </tr>\n",
       "    <tr>\n",
       "      <th>smoker</th>\n",
       "      <td>-0.023820</td>\n",
       "      <td>0.076096</td>\n",
       "      <td>0.002264</td>\n",
       "      <td>0.010463</td>\n",
       "      <td>1.000000</td>\n",
       "      <td>-0.002333</td>\n",
       "      <td>0.786536</td>\n",
       "    </tr>\n",
       "    <tr>\n",
       "      <th>region</th>\n",
       "      <td>0.002974</td>\n",
       "      <td>0.003293</td>\n",
       "      <td>0.155877</td>\n",
       "      <td>0.014558</td>\n",
       "      <td>-0.002333</td>\n",
       "      <td>1.000000</td>\n",
       "      <td>-0.006404</td>\n",
       "    </tr>\n",
       "    <tr>\n",
       "      <th>charges</th>\n",
       "      <td>0.301360</td>\n",
       "      <td>0.057165</td>\n",
       "      <td>0.200799</td>\n",
       "      <td>0.071465</td>\n",
       "      <td>0.786536</td>\n",
       "      <td>-0.006404</td>\n",
       "      <td>1.000000</td>\n",
       "    </tr>\n",
       "  </tbody>\n",
       "</table>\n",
       "</div>"
      ],
      "text/plain": [
       "               age       sex       bmi  children    smoker    region   charges\n",
       "age       1.000000 -0.019041  0.118887  0.049851 -0.023820  0.002974  0.301360\n",
       "sex      -0.019041  1.000000  0.037031  0.017140  0.076096  0.003293  0.057165\n",
       "bmi       0.118887  0.037031  1.000000  0.019930  0.002264  0.155877  0.200799\n",
       "children  0.049851  0.017140  0.019930  1.000000  0.010463  0.014558  0.071465\n",
       "smoker   -0.023820  0.076096  0.002264  0.010463  1.000000 -0.002333  0.786536\n",
       "region    0.002974  0.003293  0.155877  0.014558 -0.002333  1.000000 -0.006404\n",
       "charges   0.301360  0.057165  0.200799  0.071465  0.786536 -0.006404  1.000000"
      ]
     },
     "execution_count": 117,
     "metadata": {},
     "output_type": "execute_result"
    }
   ],
   "source": [
    "#checking the correlation\n",
    "cor=df.corr()\n",
    "cor"
   ]
  },
  {
   "cell_type": "markdown",
   "id": "258e5bf2",
   "metadata": {},
   "source": [
    "This gives the correlation between the dependent and independent variables. we cant visualize this by plotting heatmap"
   ]
  },
  {
   "cell_type": "code",
   "execution_count": 118,
   "id": "40c8c24e",
   "metadata": {},
   "outputs": [
    {
     "data": {
      "image/png": "[encoded data removed]",
      "text/plain": [
       "<Figure size 432x288 with 2 Axes>"
      ]
     },
     "metadata": {
      "needs_background": "light"
     },
     "output_type": "display_data"
    }
   ],
   "source": [
    "#visualizng the correlation matrix by plotting heatmap\n",
    "sns.heatmap(df.corr(), linewidths=0.1, fmt='.1g', linecolor='black', annot=True, cmap='Blues_r')\n",
    "plt.show()"
   ]
  },
  {
   "cell_type": "code",
   "execution_count": 119,
   "id": "29eea3d2",
   "metadata": {},
   "outputs": [
    {
     "data": {
      "text/plain": [
       "charges     1.000000\n",
       "smoker      0.786536\n",
       "age         0.301360\n",
       "bmi         0.200799\n",
       "children    0.071465\n",
       "sex         0.057165\n",
       "region     -0.006404\n",
       "Name: charges, dtype: float64"
      ]
     },
     "execution_count": 119,
     "metadata": {},
     "output_type": "execute_result"
    }
   ],
   "source": [
    "cor['charges'].sort_values(ascending=False)"
   ]
  },
  {
   "cell_type": "markdown",
   "id": "6ddd22d4",
   "metadata": {},
   "source": [
    "We can observe the positive and negative correlated features with the target"
   ]
  },
  {
   "cell_type": "markdown",
   "id": "25c5c771",
   "metadata": {},
   "source": [
    "# Visualizing the correlation between label and features using bar plot"
   ]
  },
  {
   "cell_type": "code",
   "execution_count": 120,
   "id": "98a27085",
   "metadata": {},
   "outputs": [
    {
     "data": {
      "image/png": "[encoded data removed]",
      "text/plain": [
       "<Figure size 1584x504 with 1 Axes>"
      ]
     },
     "metadata": {
      "needs_background": "light"
     },
     "output_type": "display_data"
    }
   ],
   "source": [
    "plt.figure(figsize=(22,7))\n",
    "df.corr()['charges'].sort_values(ascending=False).drop(['charges']).plot(kind='bar',color='m')\n",
    "plt.xlabel('Feature',fontsize=15)\n",
    "plt.ylabel('Target',fontsize=15)\n",
    "plt.title(\"correlation between label and features using barplot\",fontsize=20)\n",
    "plt.show()"
   ]
  },
  {
   "cell_type": "markdown",
   "id": "ff031cfa",
   "metadata": {},
   "source": [
    "From the above bar plot we can notice the positive and negative correlation between the features and the target. Here the features region and sex have very less correlation with column and smoker has higher relation with feature column."
   ]
  },
  {
   "cell_type": "markdown",
   "id": "aa716b59",
   "metadata": {},
   "source": [
    "# Seprating features and label"
   ]
  },
  {
   "cell_type": "code",
   "execution_count": 121,
   "id": "904a26dc",
   "metadata": {},
   "outputs": [],
   "source": [
    "x=df.iloc[:,0:-1]\n",
    "y=df.iloc[:,-1]"
   ]
  },
  {
   "cell_type": "code",
   "execution_count": 122,
   "id": "87535607",
   "metadata": {},
   "outputs": [
    {
     "data": {
      "text/html": [
       "<div>\n",
       "<style scoped>\n",
       "    .dataframe tbody tr th:only-of-type {\n",
       "        vertical-align: middle;\n",
       "    }\n",
       "\n",
       "    .dataframe tbody tr th {\n",
       "        vertical-align: top;\n",
       "    }\n",
       "\n",
       "    .dataframe thead th {\n",
       "        text-align: right;\n",
       "    }\n",
       "</style>\n",
       "<table border=\"1\" class=\"dataframe\">\n",
       "  <thead>\n",
       "    <tr style=\"text-align: right;\">\n",
       "      <th></th>\n",
       "      <th>age</th>\n",
       "      <th>sex</th>\n",
       "      <th>bmi</th>\n",
       "      <th>children</th>\n",
       "      <th>smoker</th>\n",
       "      <th>region</th>\n",
       "    </tr>\n",
       "  </thead>\n",
       "  <tbody>\n",
       "    <tr>\n",
       "      <th>0</th>\n",
       "      <td>19</td>\n",
       "      <td>0</td>\n",
       "      <td>27.900</td>\n",
       "      <td>0.00000</td>\n",
       "      <td>1</td>\n",
       "      <td>3</td>\n",
       "    </tr>\n",
       "    <tr>\n",
       "      <th>1</th>\n",
       "      <td>18</td>\n",
       "      <td>1</td>\n",
       "      <td>33.770</td>\n",
       "      <td>1.00000</td>\n",
       "      <td>0</td>\n",
       "      <td>2</td>\n",
       "    </tr>\n",
       "    <tr>\n",
       "      <th>2</th>\n",
       "      <td>28</td>\n",
       "      <td>1</td>\n",
       "      <td>33.000</td>\n",
       "      <td>1.44225</td>\n",
       "      <td>0</td>\n",
       "      <td>2</td>\n",
       "    </tr>\n",
       "    <tr>\n",
       "      <th>3</th>\n",
       "      <td>33</td>\n",
       "      <td>1</td>\n",
       "      <td>22.705</td>\n",
       "      <td>0.00000</td>\n",
       "      <td>0</td>\n",
       "      <td>1</td>\n",
       "    </tr>\n",
       "    <tr>\n",
       "      <th>4</th>\n",
       "      <td>32</td>\n",
       "      <td>1</td>\n",
       "      <td>28.880</td>\n",
       "      <td>0.00000</td>\n",
       "      <td>0</td>\n",
       "      <td>1</td>\n",
       "    </tr>\n",
       "    <tr>\n",
       "      <th>...</th>\n",
       "      <td>...</td>\n",
       "      <td>...</td>\n",
       "      <td>...</td>\n",
       "      <td>...</td>\n",
       "      <td>...</td>\n",
       "      <td>...</td>\n",
       "    </tr>\n",
       "    <tr>\n",
       "      <th>1333</th>\n",
       "      <td>50</td>\n",
       "      <td>1</td>\n",
       "      <td>30.970</td>\n",
       "      <td>1.44225</td>\n",
       "      <td>0</td>\n",
       "      <td>1</td>\n",
       "    </tr>\n",
       "    <tr>\n",
       "      <th>1334</th>\n",
       "      <td>18</td>\n",
       "      <td>0</td>\n",
       "      <td>31.920</td>\n",
       "      <td>0.00000</td>\n",
       "      <td>0</td>\n",
       "      <td>0</td>\n",
       "    </tr>\n",
       "    <tr>\n",
       "      <th>1335</th>\n",
       "      <td>18</td>\n",
       "      <td>0</td>\n",
       "      <td>36.850</td>\n",
       "      <td>0.00000</td>\n",
       "      <td>0</td>\n",
       "      <td>2</td>\n",
       "    </tr>\n",
       "    <tr>\n",
       "      <th>1336</th>\n",
       "      <td>21</td>\n",
       "      <td>0</td>\n",
       "      <td>25.800</td>\n",
       "      <td>0.00000</td>\n",
       "      <td>0</td>\n",
       "      <td>3</td>\n",
       "    </tr>\n",
       "    <tr>\n",
       "      <th>1337</th>\n",
       "      <td>61</td>\n",
       "      <td>0</td>\n",
       "      <td>29.070</td>\n",
       "      <td>0.00000</td>\n",
       "      <td>1</td>\n",
       "      <td>1</td>\n",
       "    </tr>\n",
       "  </tbody>\n",
       "</table>\n",
       "<p>1334 rows × 6 columns</p>\n",
       "</div>"
      ],
      "text/plain": [
       "      age  sex     bmi  children  smoker  region\n",
       "0      19    0  27.900   0.00000       1       3\n",
       "1      18    1  33.770   1.00000       0       2\n",
       "2      28    1  33.000   1.44225       0       2\n",
       "3      33    1  22.705   0.00000       0       1\n",
       "4      32    1  28.880   0.00000       0       1\n",
       "...   ...  ...     ...       ...     ...     ...\n",
       "1333   50    1  30.970   1.44225       0       1\n",
       "1334   18    0  31.920   0.00000       0       0\n",
       "1335   18    0  36.850   0.00000       0       2\n",
       "1336   21    0  25.800   0.00000       0       3\n",
       "1337   61    0  29.070   0.00000       1       1\n",
       "\n",
       "[1334 rows x 6 columns]"
      ]
     },
     "execution_count": 122,
     "metadata": {},
     "output_type": "execute_result"
    }
   ],
   "source": [
    "x"
   ]
  },
  {
   "cell_type": "code",
   "execution_count": 123,
   "id": "ddf4809c",
   "metadata": {},
   "outputs": [
    {
     "data": {
      "text/plain": [
       "0       16884.92400\n",
       "1        1725.55230\n",
       "2        4449.46200\n",
       "3       21984.47061\n",
       "4        3866.85520\n",
       "           ...     \n",
       "1333    10600.54830\n",
       "1334     2205.98080\n",
       "1335     1629.83350\n",
       "1336     2007.94500\n",
       "1337    29141.36030\n",
       "Name: charges, Length: 1334, dtype: float64"
      ]
     },
     "execution_count": 123,
     "metadata": {},
     "output_type": "execute_result"
    }
   ],
   "source": [
    "y"
   ]
  },
  {
   "cell_type": "markdown",
   "id": "b4cbec5e",
   "metadata": {},
   "source": [
    "# Feature Scalling Using Standard Scalarization"
   ]
  },
  {
   "cell_type": "code",
   "execution_count": 124,
   "id": "e5846488",
   "metadata": {},
   "outputs": [
    {
     "data": {
      "text/html": [
       "<div>\n",
       "<style scoped>\n",
       "    .dataframe tbody tr th:only-of-type {\n",
       "        vertical-align: middle;\n",
       "    }\n",
       "\n",
       "    .dataframe tbody tr th {\n",
       "        vertical-align: top;\n",
       "    }\n",
       "\n",
       "    .dataframe thead th {\n",
       "        text-align: right;\n",
       "    }\n",
       "</style>\n",
       "<table border=\"1\" class=\"dataframe\">\n",
       "  <thead>\n",
       "    <tr style=\"text-align: right;\">\n",
       "      <th></th>\n",
       "      <th>age</th>\n",
       "      <th>sex</th>\n",
       "      <th>bmi</th>\n",
       "      <th>children</th>\n",
       "      <th>smoker</th>\n",
       "      <th>region</th>\n",
       "    </tr>\n",
       "  </thead>\n",
       "  <tbody>\n",
       "    <tr>\n",
       "      <th>0</th>\n",
       "      <td>-1.442249</td>\n",
       "      <td>-1.007525</td>\n",
       "      <td>-0.450359</td>\n",
       "      <td>-1.118109</td>\n",
       "      <td>1.971407</td>\n",
       "      <td>1.343594</td>\n",
       "    </tr>\n",
       "    <tr>\n",
       "      <th>1</th>\n",
       "      <td>-1.513528</td>\n",
       "      <td>0.992532</td>\n",
       "      <td>0.528191</td>\n",
       "      <td>0.500899</td>\n",
       "      <td>-0.507252</td>\n",
       "      <td>0.439278</td>\n",
       "    </tr>\n",
       "    <tr>\n",
       "      <th>2</th>\n",
       "      <td>-0.800739</td>\n",
       "      <td>0.992532</td>\n",
       "      <td>0.399829</td>\n",
       "      <td>1.216904</td>\n",
       "      <td>-0.507252</td>\n",
       "      <td>0.439278</td>\n",
       "    </tr>\n",
       "    <tr>\n",
       "      <th>3</th>\n",
       "      <td>-0.444344</td>\n",
       "      <td>0.992532</td>\n",
       "      <td>-1.316383</td>\n",
       "      <td>-1.118109</td>\n",
       "      <td>-0.507252</td>\n",
       "      <td>-0.465038</td>\n",
       "    </tr>\n",
       "    <tr>\n",
       "      <th>4</th>\n",
       "      <td>-0.515623</td>\n",
       "      <td>0.992532</td>\n",
       "      <td>-0.286989</td>\n",
       "      <td>-1.118109</td>\n",
       "      <td>-0.507252</td>\n",
       "      <td>-0.465038</td>\n",
       "    </tr>\n",
       "    <tr>\n",
       "      <th>...</th>\n",
       "      <td>...</td>\n",
       "      <td>...</td>\n",
       "      <td>...</td>\n",
       "      <td>...</td>\n",
       "      <td>...</td>\n",
       "      <td>...</td>\n",
       "    </tr>\n",
       "    <tr>\n",
       "      <th>1329</th>\n",
       "      <td>0.767397</td>\n",
       "      <td>0.992532</td>\n",
       "      <td>0.061421</td>\n",
       "      <td>1.216904</td>\n",
       "      <td>-0.507252</td>\n",
       "      <td>-0.465038</td>\n",
       "    </tr>\n",
       "    <tr>\n",
       "      <th>1330</th>\n",
       "      <td>-1.513528</td>\n",
       "      <td>-1.007525</td>\n",
       "      <td>0.219789</td>\n",
       "      <td>-1.118109</td>\n",
       "      <td>-0.507252</td>\n",
       "      <td>-1.369355</td>\n",
       "    </tr>\n",
       "    <tr>\n",
       "      <th>1331</th>\n",
       "      <td>-1.513528</td>\n",
       "      <td>-1.007525</td>\n",
       "      <td>1.041637</td>\n",
       "      <td>-1.118109</td>\n",
       "      <td>-0.507252</td>\n",
       "      <td>0.439278</td>\n",
       "    </tr>\n",
       "    <tr>\n",
       "      <th>1332</th>\n",
       "      <td>-1.299692</td>\n",
       "      <td>-1.007525</td>\n",
       "      <td>-0.800436</td>\n",
       "      <td>-1.118109</td>\n",
       "      <td>-0.507252</td>\n",
       "      <td>1.343594</td>\n",
       "    </tr>\n",
       "    <tr>\n",
       "      <th>1333</th>\n",
       "      <td>1.551465</td>\n",
       "      <td>-1.007525</td>\n",
       "      <td>-0.255316</td>\n",
       "      <td>-1.118109</td>\n",
       "      <td>1.971407</td>\n",
       "      <td>-0.465038</td>\n",
       "    </tr>\n",
       "  </tbody>\n",
       "</table>\n",
       "<p>1334 rows × 6 columns</p>\n",
       "</div>"
      ],
      "text/plain": [
       "           age       sex       bmi  children    smoker    region\n",
       "0    -1.442249 -1.007525 -0.450359 -1.118109  1.971407  1.343594\n",
       "1    -1.513528  0.992532  0.528191  0.500899 -0.507252  0.439278\n",
       "2    -0.800739  0.992532  0.399829  1.216904 -0.507252  0.439278\n",
       "3    -0.444344  0.992532 -1.316383 -1.118109 -0.507252 -0.465038\n",
       "4    -0.515623  0.992532 -0.286989 -1.118109 -0.507252 -0.465038\n",
       "...        ...       ...       ...       ...       ...       ...\n",
       "1329  0.767397  0.992532  0.061421  1.216904 -0.507252 -0.465038\n",
       "1330 -1.513528 -1.007525  0.219789 -1.118109 -0.507252 -1.369355\n",
       "1331 -1.513528 -1.007525  1.041637 -1.118109 -0.507252  0.439278\n",
       "1332 -1.299692 -1.007525 -0.800436 -1.118109 -0.507252  1.343594\n",
       "1333  1.551465 -1.007525 -0.255316 -1.118109  1.971407 -0.465038\n",
       "\n",
       "[1334 rows x 6 columns]"
      ]
     },
     "execution_count": 124,
     "metadata": {},
     "output_type": "execute_result"
    }
   ],
   "source": [
    "from sklearn.preprocessing import StandardScaler\n",
    "scaler=StandardScaler()\n",
    "x=pd.DataFrame(scaler.fit_transform(x), columns=x.columns)\n",
    "x"
   ]
  },
  {
   "cell_type": "markdown",
   "id": "18aecae5",
   "metadata": {},
   "source": [
    "We have scaled the data using standard scalarization method to overcome the issue of biasness standard scaler will convert mean=0 and std=1"
   ]
  },
  {
   "cell_type": "markdown",
   "id": "73c90c9a",
   "metadata": {},
   "source": [
    "Now we check for the multicolinearity for this we use Variance Inflation factor(VIF) method"
   ]
  },
  {
   "cell_type": "markdown",
   "id": "dc4becee",
   "metadata": {},
   "source": [
    "# Checking Variance Inflation factor(VIF)"
   ]
  },
  {
   "cell_type": "code",
   "execution_count": 125,
   "id": "9b8b8cf6",
   "metadata": {},
   "outputs": [
    {
     "data": {
      "text/html": [
       "<div>\n",
       "<style scoped>\n",
       "    .dataframe tbody tr th:only-of-type {\n",
       "        vertical-align: middle;\n",
       "    }\n",
       "\n",
       "    .dataframe tbody tr th {\n",
       "        vertical-align: top;\n",
       "    }\n",
       "\n",
       "    .dataframe thead th {\n",
       "        text-align: right;\n",
       "    }\n",
       "</style>\n",
       "<table border=\"1\" class=\"dataframe\">\n",
       "  <thead>\n",
       "    <tr style=\"text-align: right;\">\n",
       "      <th></th>\n",
       "      <th>VIF Values</th>\n",
       "      <th>Features</th>\n",
       "    </tr>\n",
       "  </thead>\n",
       "  <tbody>\n",
       "    <tr>\n",
       "      <th>0</th>\n",
       "      <td>1.018089</td>\n",
       "      <td>age</td>\n",
       "    </tr>\n",
       "    <tr>\n",
       "      <th>1</th>\n",
       "      <td>1.007973</td>\n",
       "      <td>sex</td>\n",
       "    </tr>\n",
       "    <tr>\n",
       "      <th>2</th>\n",
       "      <td>1.041617</td>\n",
       "      <td>bmi</td>\n",
       "    </tr>\n",
       "    <tr>\n",
       "      <th>3</th>\n",
       "      <td>1.003263</td>\n",
       "      <td>children</td>\n",
       "    </tr>\n",
       "    <tr>\n",
       "      <th>4</th>\n",
       "      <td>1.006452</td>\n",
       "      <td>smoker</td>\n",
       "    </tr>\n",
       "    <tr>\n",
       "      <th>5</th>\n",
       "      <td>1.025337</td>\n",
       "      <td>region</td>\n",
       "    </tr>\n",
       "  </tbody>\n",
       "</table>\n",
       "</div>"
      ],
      "text/plain": [
       "   VIF Values  Features\n",
       "0    1.018089       age\n",
       "1    1.007973       sex\n",
       "2    1.041617       bmi\n",
       "3    1.003263  children\n",
       "4    1.006452    smoker\n",
       "5    1.025337    region"
      ]
     },
     "execution_count": 125,
     "metadata": {},
     "output_type": "execute_result"
    }
   ],
   "source": [
    "#Finding varience inflation factor in each scaled column\n",
    "\n",
    "from statsmodels.stats.outliers_influence import variance_inflation_factor\n",
    "vif=pd.DataFrame()\n",
    "vif['VIF Values']=[variance_inflation_factor(x.values,i)\n",
    "            for i in range(len(x.columns))]\n",
    "vif['Features']=x.columns\n",
    "vif"
   ]
  },
  {
   "cell_type": "markdown",
   "id": "cfd879d7",
   "metadata": {},
   "source": [
    "Here we can see that there is no multicolinearity present in the dataset so no need to remove the multicolinearity "
   ]
  },
  {
   "cell_type": "markdown",
   "id": "67060307",
   "metadata": {},
   "source": [
    "# Finding the best random state"
   ]
  },
  {
   "cell_type": "code",
   "execution_count": 132,
   "id": "d3379d73",
   "metadata": {},
   "outputs": [
    {
     "name": "stdout",
     "output_type": "stream",
     "text": [
      "Random state: 0, MSE: 35318298.322639726\n",
      "Random state: 1, MSE: 35318298.322639726\n",
      "Random state: 2, MSE: 35318298.322639726\n",
      "Random state: 3, MSE: 35318298.322639726\n",
      "Random state: 4, MSE: 35318298.322639726\n",
      "Random state: 5, MSE: 35318298.322639726\n",
      "Random state: 6, MSE: 35318298.322639726\n",
      "Random state: 7, MSE: 35318298.322639726\n",
      "Random state: 8, MSE: 35318298.322639726\n",
      "Random state: 9, MSE: 35318298.322639726\n",
      "Random state: 10, MSE: 35318298.322639726\n",
      "Random state: 11, MSE: 35318298.322639726\n",
      "Random state: 12, MSE: 35318298.322639726\n",
      "Random state: 13, MSE: 35318298.322639726\n",
      "Random state: 14, MSE: 35318298.322639726\n",
      "Random state: 15, MSE: 35318298.322639726\n",
      "Random state: 16, MSE: 35318298.322639726\n",
      "Random state: 17, MSE: 35318298.322639726\n",
      "Random state: 18, MSE: 35318298.322639726\n",
      "Random state: 19, MSE: 35318298.322639726\n",
      "Random state: 20, MSE: 35318298.322639726\n",
      "Random state: 21, MSE: 35318298.322639726\n",
      "Random state: 22, MSE: 35318298.322639726\n",
      "Random state: 23, MSE: 35318298.322639726\n",
      "Random state: 24, MSE: 35318298.322639726\n",
      "Random state: 25, MSE: 35318298.322639726\n",
      "Random state: 26, MSE: 35318298.322639726\n",
      "Random state: 27, MSE: 35318298.322639726\n",
      "Random state: 28, MSE: 35318298.322639726\n",
      "Random state: 29, MSE: 35318298.322639726\n",
      "Random state: 30, MSE: 35318298.322639726\n",
      "Random state: 31, MSE: 35318298.322639726\n",
      "Random state: 32, MSE: 35318298.322639726\n",
      "Random state: 33, MSE: 35318298.322639726\n",
      "Random state: 34, MSE: 35318298.322639726\n",
      "Random state: 35, MSE: 35318298.322639726\n",
      "Random state: 36, MSE: 35318298.322639726\n",
      "Random state: 37, MSE: 35318298.322639726\n",
      "Random state: 38, MSE: 35318298.322639726\n",
      "Random state: 39, MSE: 35318298.322639726\n",
      "Random state: 40, MSE: 35318298.322639726\n",
      "Random state: 41, MSE: 35318298.322639726\n",
      "Random state: 42, MSE: 35318298.322639726\n",
      "Random state: 43, MSE: 35318298.322639726\n",
      "Random state: 44, MSE: 35318298.322639726\n",
      "Random state: 45, MSE: 35318298.322639726\n",
      "Random state: 46, MSE: 35318298.322639726\n",
      "Random state: 47, MSE: 35318298.322639726\n",
      "Random state: 48, MSE: 35318298.322639726\n",
      "Random state: 49, MSE: 35318298.322639726\n",
      "Random state: 50, MSE: 35318298.322639726\n",
      "Random state: 51, MSE: 35318298.322639726\n",
      "Random state: 52, MSE: 35318298.322639726\n",
      "Random state: 53, MSE: 35318298.322639726\n",
      "Random state: 54, MSE: 35318298.322639726\n",
      "Random state: 55, MSE: 35318298.322639726\n",
      "Random state: 56, MSE: 35318298.322639726\n",
      "Random state: 57, MSE: 35318298.322639726\n",
      "Random state: 58, MSE: 35318298.322639726\n",
      "Random state: 59, MSE: 35318298.322639726\n",
      "Random state: 60, MSE: 35318298.322639726\n",
      "Random state: 61, MSE: 35318298.322639726\n",
      "Random state: 62, MSE: 35318298.322639726\n",
      "Random state: 63, MSE: 35318298.322639726\n",
      "Random state: 64, MSE: 35318298.322639726\n",
      "Random state: 65, MSE: 35318298.322639726\n",
      "Random state: 66, MSE: 35318298.322639726\n",
      "Random state: 67, MSE: 35318298.322639726\n",
      "Random state: 68, MSE: 35318298.322639726\n",
      "Random state: 69, MSE: 35318298.322639726\n",
      "Random state: 70, MSE: 35318298.322639726\n",
      "Random state: 71, MSE: 35318298.322639726\n",
      "Random state: 72, MSE: 35318298.322639726\n",
      "Random state: 73, MSE: 35318298.322639726\n",
      "Random state: 74, MSE: 35318298.322639726\n",
      "Random state: 75, MSE: 35318298.322639726\n",
      "Random state: 76, MSE: 35318298.322639726\n",
      "Random state: 77, MSE: 35318298.322639726\n",
      "Random state: 78, MSE: 35318298.322639726\n",
      "Random state: 79, MSE: 35318298.322639726\n",
      "Random state: 80, MSE: 35318298.322639726\n",
      "Random state: 81, MSE: 35318298.322639726\n",
      "Random state: 82, MSE: 35318298.322639726\n",
      "Random state: 83, MSE: 35318298.322639726\n",
      "Random state: 84, MSE: 35318298.322639726\n",
      "Random state: 85, MSE: 35318298.322639726\n",
      "Random state: 86, MSE: 35318298.322639726\n",
      "Random state: 87, MSE: 35318298.322639726\n",
      "Random state: 88, MSE: 35318298.322639726\n",
      "Random state: 89, MSE: 35318298.322639726\n",
      "Random state: 90, MSE: 35318298.322639726\n",
      "Random state: 91, MSE: 35318298.322639726\n",
      "Random state: 92, MSE: 35318298.322639726\n",
      "Random state: 93, MSE: 35318298.322639726\n",
      "Random state: 94, MSE: 35318298.322639726\n",
      "Random state: 95, MSE: 35318298.322639726\n",
      "Random state: 96, MSE: 35318298.322639726\n",
      "Random state: 97, MSE: 35318298.322639726\n",
      "Random state: 98, MSE: 35318298.322639726\n",
      "Random state: 99, MSE: 35318298.322639726\n"
     ]
    }
   ],
   "source": [
    "for i in range(100):\n",
    "    lr = LinearRegression()\n",
    "    lr.random_state = i\n",
    "    lr.fit(x_train, y_train)\n",
    "    y_pred = lr.predict(x_test)\n",
    "    mse = mean_squared_error(y_test, y_pred)\n",
    "    print(\"Random state: {}, MSE: {}\".format(i, mse))"
   ]
  },
  {
   "cell_type": "code",
   "execution_count": 133,
   "id": "bac39845",
   "metadata": {},
   "outputs": [],
   "source": [
    "from sklearn.model_selection import train_test_split\n",
    "from sklearn.linear_model import LinearRegression\n",
    "from sklearn.metrics import mean_squared_error,mean_absolute_error\n",
    "\n",
    "#split the data into training and testing sets\n",
    "x_train,x_test,y_train,y_test=train_test_split(x,y,test_size=.20, random_state=i)"
   ]
  },
  {
   "cell_type": "code",
   "execution_count": 134,
   "id": "3cc391ca",
   "metadata": {},
   "outputs": [
    {
     "data": {
      "text/plain": [
       "(1067, 6)"
      ]
     },
     "execution_count": 134,
     "metadata": {},
     "output_type": "execute_result"
    }
   ],
   "source": [
    "x_train.shape"
   ]
  },
  {
   "cell_type": "code",
   "execution_count": 135,
   "id": "f15d0f23",
   "metadata": {},
   "outputs": [
    {
     "data": {
      "text/plain": [
       "(267, 6)"
      ]
     },
     "execution_count": 135,
     "metadata": {},
     "output_type": "execute_result"
    }
   ],
   "source": [
    "x_test.shape"
   ]
  },
  {
   "cell_type": "code",
   "execution_count": 136,
   "id": "05c50d70",
   "metadata": {},
   "outputs": [
    {
     "data": {
      "text/plain": [
       "(1067,)"
      ]
     },
     "execution_count": 136,
     "metadata": {},
     "output_type": "execute_result"
    }
   ],
   "source": [
    "y_train.shape"
   ]
  },
  {
   "cell_type": "code",
   "execution_count": 137,
   "id": "62824890",
   "metadata": {},
   "outputs": [
    {
     "data": {
      "text/plain": [
       "(267,)"
      ]
     },
     "execution_count": 137,
     "metadata": {},
     "output_type": "execute_result"
    }
   ],
   "source": [
    "y_test.shape"
   ]
  },
  {
   "cell_type": "markdown",
   "id": "187f7fd4",
   "metadata": {},
   "source": [
    "Here we can see that in range(0,100) for random state we are getting mean squared error value = 36502418.93278916 so we can choose any rndom value from 0 to 100"
   ]
  },
  {
   "cell_type": "code",
   "execution_count": 138,
   "id": "abc88db7",
   "metadata": {},
   "outputs": [],
   "source": [
    "x_train,x_test,y_train,y_test=train_test_split(x,y,test_size=.33,random_state=42)"
   ]
  },
  {
   "cell_type": "code",
   "execution_count": 139,
   "id": "35cff2fd",
   "metadata": {},
   "outputs": [
    {
     "data": {
      "text/plain": [
       "LinearRegression()"
      ]
     },
     "execution_count": 139,
     "metadata": {},
     "output_type": "execute_result"
    }
   ],
   "source": [
    "lr.fit(x_train,y_train)"
   ]
  },
  {
   "cell_type": "code",
   "execution_count": 140,
   "id": "4b208c6b",
   "metadata": {},
   "outputs": [
    {
     "data": {
      "text/plain": [
       "array([3332.52033037,  -97.26019228, 2029.61893906,  707.49859057,\n",
       "       9631.5266673 , -596.97682248])"
      ]
     },
     "execution_count": 140,
     "metadata": {},
     "output_type": "execute_result"
    }
   ],
   "source": [
    "lr.coef_"
   ]
  },
  {
   "cell_type": "code",
   "execution_count": 141,
   "id": "31b4ac66",
   "metadata": {},
   "outputs": [
    {
     "data": {
      "text/plain": [
       "13210.262235299328"
      ]
     },
     "execution_count": 141,
     "metadata": {},
     "output_type": "execute_result"
    }
   ],
   "source": [
    "lr.intercept_"
   ]
  },
  {
   "cell_type": "code",
   "execution_count": 142,
   "id": "6ac3fff1",
   "metadata": {},
   "outputs": [
    {
     "data": {
      "text/plain": [
       "0.7479052639683128"
      ]
     },
     "execution_count": 142,
     "metadata": {},
     "output_type": "execute_result"
    }
   ],
   "source": [
    "lr.score(x_train,y_train)   #75% of the machine learning working well"
   ]
  },
  {
   "cell_type": "code",
   "execution_count": 143,
   "id": "4cc0ad8a",
   "metadata": {},
   "outputs": [
    {
     "name": "stdout",
     "output_type": "stream",
     "text": [
      "predicted result: [ 7838.31880135  6838.24252825  9955.93617803 10554.45805194\n",
      " 26263.42855956  2578.71328641  5249.10414    13715.30697712\n",
      " 11390.94214571 36561.04529906  9836.7241762  13268.43753286\n",
      "  5444.49030167 16533.06771258 11421.88303584  7704.28621785\n",
      "  9807.45760651 32981.22330032  6612.43999849  5741.59592082\n",
      "  3612.05845535  7915.66703233 15219.01867946 12817.66801522\n",
      " 33797.90866905  6045.78096498 11608.77384977  3801.75323411\n",
      " 14658.33234751  5413.24157833  9979.12972556  6758.06740937\n",
      "  1176.73300878  7041.24651647 11089.71529131  7144.60251683\n",
      "  3304.63336033  3763.92321645  8168.47936312 10698.03352244\n",
      "  7469.28081053 31088.34636848 11273.81289993  5106.65294566\n",
      " 12659.80771232  2536.43057887  4393.95313521 13327.24737184\n",
      "  4807.26462013  9150.62720155 14996.01867529 11480.16257278\n",
      "  3580.77802723 27150.96650894 10494.05826466 36832.72372681\n",
      "  8378.38261713 32929.04075204 32454.69733807 11547.32364799\n",
      "  7324.20744275  9079.24268463  8696.17966789   301.33406723\n",
      " 32123.48360333  9540.29457792 11288.67722095 33733.80358529\n",
      " 32281.75474095 15362.02045085  3851.28142719  1751.9620175\n",
      " 33559.71718276  6587.00675257 11449.25434277  6346.61773113\n",
      " 26336.85476326 11935.41891887  7147.63417041 12508.37577118\n",
      "  9812.87644787  4721.35260121 16284.08123737 11105.66388949\n",
      " 11025.42985649  8535.00503459  4321.51230848 35726.28687488\n",
      " 10275.20283667 18640.27795018  4542.62398059 28726.29267416\n",
      "  7280.99195448 38035.06067847  1447.4520631   9135.64437343\n",
      " 15791.77898477  2195.29664923 12934.67148106  2472.3607984\n",
      " 13178.03370614 38425.94920687 33045.50003256  8071.00706969\n",
      "  4575.86137994  5616.3199226  32670.61445608  2781.83836503\n",
      " 15738.87455748  5589.96736958  8349.02576614  1808.4080587\n",
      "  9247.3405364  26393.66897496  5551.99216571  -308.38322553\n",
      "  6370.57307624  5549.58401552  -994.20351184  4061.65920109\n",
      " 36543.5341713   4923.43993526 31962.55272283  5616.01840687\n",
      "  9423.98734681  6366.06732336  4641.81636052 11187.22629096\n",
      " 15279.5016058   7928.70316616  9585.97147942 12418.38190295\n",
      " 11683.34051099 11278.96610573  9744.00934817  5476.70685058\n",
      " 35739.25851044 26085.9110329  11570.13181259  4433.31997506\n",
      "  6858.70517354  6326.90689779 12347.47278377 11167.88105082\n",
      " 10752.64396331  9504.97577669 10851.7162569   8910.91072868\n",
      " 36272.50468931 14172.7332345   9400.08588268 36434.56971327\n",
      " 22884.64439133  3876.36030269  4472.20332636 27285.00984246\n",
      " 37366.62762677 12072.09314683  9630.43130799 12497.42457951\n",
      "  3694.58491978 23156.01729031 36184.81815589 36213.87030562\n",
      " 36191.55565783 12527.05648882 10544.94190771 34686.93635995\n",
      " 12355.57334886  2067.83530017  5325.35414874  5221.18300178\n",
      "  5351.74881132 34451.86204206  8980.64544223  9171.72559308\n",
      "  1533.7618639   4681.65914999  6972.40743608 12049.2153419\n",
      " 14902.79545532 38749.84691442  5107.84797155  7694.60781147\n",
      " 34142.99920423  8336.06739171 28744.49764561  6105.01919009\n",
      " 10530.58840302 31923.57936927  3108.38710488  7566.62038038\n",
      "  6635.79912156 12817.27017975  1954.86110009  6369.7183354\n",
      "  4869.52675051  7244.54241314 -2308.17070779 10658.22584531\n",
      "  9459.57773081 26356.75838736 10402.17878798 12116.78754485\n",
      " 28474.12303456 12615.12555716  7838.42635503  9648.89466419\n",
      "  3213.40911072 35042.19170951 27132.62281654   342.6794497\n",
      "  6245.13515946  4991.76265868 10247.81982437  7226.61691037\n",
      "  5309.74958419 31038.88653895 31229.66776853  8446.00795659\n",
      " 37414.86098752 28720.87347463 38313.99506129  4886.22205195\n",
      " 10921.78771522 37997.54637861 12074.37551708 17285.18252698\n",
      " 28076.45373632   579.72434517 15366.69572433 15974.31365546\n",
      "  6106.80860795  8475.70163147  8324.34691224  9141.12322906\n",
      " 12611.86776531 30305.45298921  2605.13304885  1249.82067873\n",
      "  4963.13216925  9244.45059349 34164.50672826  3654.36184625\n",
      " 29443.00962735 10992.00305678  2968.317195   36999.50450693\n",
      "   598.65044983 10096.66810384  3043.06801409 11752.74778296\n",
      "  2599.47574629 14763.84825784  3604.51601577 24026.47134285\n",
      " 11115.50549585 11039.75810035  9096.43781411 12765.44288299\n",
      "  8845.61960524 38212.09811462 14010.50617872  8235.11906714\n",
      " 40437.18075967  2346.32176382 12253.47912887 38752.00770548\n",
      "  2337.31591715  3723.26548802 14727.32462654  8852.76215238\n",
      "   972.62591058  9577.19101703  4023.12239874 15985.26484713\n",
      "  6895.36527006  8641.92857473 39447.27747848  3613.24940345\n",
      "  5634.08868643 27817.45829342  9488.11971083  3390.96174972\n",
      " 14634.99491674 11387.77232579 13946.36373147  7482.49164435\n",
      " 10494.56074074 10008.71216293  9034.28078031  3578.34245833\n",
      " 30819.40644393 31092.4448109  32565.90083533  5685.85141693\n",
      "  3012.31706051 11517.07002843  6672.60079049 13579.55531605\n",
      " 40314.25760092 10671.44770055  6629.52266587 10640.99031336\n",
      "  4439.60745216 13816.8071633  11295.32879841  8344.82758038\n",
      "  4793.63050044  2508.41250427 26017.23801196 10342.06269049\n",
      "  8459.16579746 12056.17108313 35901.09521952  8172.50317809\n",
      " 15790.80219818 12012.57245025 25247.89460437  1185.25733413\n",
      " 39472.0305515   8066.84807405 10000.12069127 11167.84533788\n",
      "  6225.35023618 17835.42144523 12048.72177776  1934.29286836\n",
      "  5025.28619895 10603.69385266 27089.39244224  8428.95474312\n",
      "  6727.95609969 14658.97911029  7020.84094722 17044.59091334\n",
      " 11594.74650988 11384.53991008 40248.35453409 10710.51594726\n",
      "  5442.40836361   635.34014058  9573.45734983 10768.21348978\n",
      "  1391.75089022 10745.28642715  1551.04753313  8548.22281205\n",
      " 11447.39029746  2673.97266674  9145.2608616   7405.90679334\n",
      " 15339.4455078   5648.15847624  7569.53923647  6643.69912662\n",
      " 17409.79141941  7930.44420743 28665.97384134  4416.27758718\n",
      " 10958.67925856 15403.09044374 38813.28795008  1972.30126985\n",
      "  8710.59015239 10387.3469188  11500.82944624  8632.16519922\n",
      " 12195.10712095 16432.33041758 10155.86340628 14388.39353442\n",
      "  9161.15891904 12518.62277748 13780.5790563   1974.79071973\n",
      " 17762.752846    6489.437375   13066.19378778  3413.96548723\n",
      "  3759.84564835  4407.83659186 24253.13991047 11730.78165135\n",
      "  3981.27645069  9959.87461553 15516.75820569 15405.84733111\n",
      " 11758.2233788  12543.28271629 26380.30731426 31633.31411133\n",
      " -1743.22094765  4444.44560062 26546.57466487  4044.84858924\n",
      "  6712.69413415  8193.69470383 13486.09480302  1277.53894295\n",
      " 11817.03321778 14930.12158873  4562.31263772 11731.37869138\n",
      "  2672.85580859 34783.66159406  8184.46775202 29454.26233475\n",
      " 14104.91420861 34008.1332443   6944.26343378  5686.27035361\n",
      " 15178.09154973  9417.0848117  13681.14034351 12544.89708851\n",
      " 10383.0757447   3053.12533954 11727.87993703 -1531.25492768\n",
      "  3107.88176933 -1521.49781606  7656.13475739  8109.15922657\n",
      "  9808.45302095  2313.61358332  8592.82366752 12258.51563872\n",
      " 36800.77938645 11092.87994895  8576.28161693  9742.90432455\n",
      "  4830.10114643  7024.67706296  8251.62089043 10014.8462331\n",
      "  7308.19142685  8698.83253024 29332.12941856  4957.69698077\n",
      " 29842.8679554 ]\n",
      "actual  900      8688.85885\n",
      "1065     7045.49900\n",
      "1255     6474.01300\n",
      "299      9249.49520\n",
      "238     17352.68030\n",
      "           ...     \n",
      "861      7151.09200\n",
      "1164     7153.55390\n",
      "322     35491.64000\n",
      "478      1534.30450\n",
      "1011    18767.73770\n",
      "Name: charges, Length: 441, dtype: float64\n"
     ]
    }
   ],
   "source": [
    "pred=lr.predict(x_test)\n",
    "print(\"predicted result:\",pred)\n",
    "print(\"actual \",y_test)"
   ]
  },
  {
   "cell_type": "code",
   "execution_count": 144,
   "id": "5f9cc0d6",
   "metadata": {},
   "outputs": [
    {
     "name": "stdout",
     "output_type": "stream",
     "text": [
      "error:\n",
      "mean absolute error: 4122.645947494513\n",
      "mean squared error: 35898418.90222045\n",
      "Root Mean squared error: 5991.528928597479\n"
     ]
    }
   ],
   "source": [
    "print('error:')\n",
    "\n",
    "print(\"mean absolute error:\",mean_absolute_error(y_test,pred))\n",
    "print(\"mean squared error:\",mean_squared_error(y_test,pred))\n",
    "\n",
    "print('Root Mean squared error:',np.sqrt(mean_squared_error(y_test,pred)))"
   ]
  },
  {
   "cell_type": "code",
   "execution_count": 145,
   "id": "4c21559c",
   "metadata": {},
   "outputs": [
    {
     "name": "stdout",
     "output_type": "stream",
     "text": [
      "0.7526648774141361\n"
     ]
    }
   ],
   "source": [
    "from sklearn.metrics import r2_score\n",
    "print (r2_score(y_test,pred))"
   ]
  },
  {
   "cell_type": "markdown",
   "id": "4c73d74d",
   "metadata": {},
   "source": [
    "it shows how much change is coming in y when the inputs are chnaged"
   ]
  },
  {
   "cell_type": "code",
   "execution_count": 146,
   "id": "36ad1fb3",
   "metadata": {},
   "outputs": [],
   "source": [
    "#predicting insurance costs \n",
    "\n",
    "t=np.array([19,0,27.900,0.00000,1,3])"
   ]
  },
  {
   "cell_type": "code",
   "execution_count": 147,
   "id": "61ee5878",
   "metadata": {},
   "outputs": [
    {
     "data": {
      "text/plain": [
       "(6,)"
      ]
     },
     "execution_count": 147,
     "metadata": {},
     "output_type": "execute_result"
    }
   ],
   "source": [
    "t.shape"
   ]
  },
  {
   "cell_type": "code",
   "execution_count": 148,
   "id": "b5882e63",
   "metadata": {},
   "outputs": [
    {
     "data": {
      "text/plain": [
       "(1, 6)"
      ]
     },
     "execution_count": 148,
     "metadata": {},
     "output_type": "execute_result"
    }
   ],
   "source": [
    "t=t.reshape(1,-1) #linear regression works on 2d thats why we use reshape to convert it into 2d here -1 = camy columns\n",
    "t.shape"
   ]
  },
  {
   "cell_type": "code",
   "execution_count": 149,
   "id": "6bde95c3",
   "metadata": {},
   "outputs": [
    {
     "data": {
      "text/plain": [
       "array([140995.11311175])"
      ]
     },
     "execution_count": 149,
     "metadata": {},
     "output_type": "execute_result"
    }
   ],
   "source": [
    "lr.predict(t)"
   ]
  },
  {
   "cell_type": "markdown",
   "id": "f6340230",
   "metadata": {},
   "source": [
    "predicted insurance cost will be 140995.11"
   ]
  },
  {
   "cell_type": "code",
   "execution_count": null,
   "id": "d1274c48",
   "metadata": {},
   "outputs": [],
   "source": []
  }
 ],
 "metadata": {
  "kernelspec": {
   "display_name": "Python 3 (ipykernel)",
   "language": "python",
   "name": "python3"
  },
  "language_info": {
   "codemirror_mode": {
    "name": "ipython",
    "version": 3
   },
   "file_extension": ".py",
   "mimetype": "text/x-python",
   "name": "python",
   "nbconvert_exporter": "python",
   "pygments_lexer": "ipython3",
   "version": "3.9.12"
  }
 },
 "nbformat": 4,
 "nbformat_minor": 5
}
